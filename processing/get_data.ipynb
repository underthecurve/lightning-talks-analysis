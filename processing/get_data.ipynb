{
 "cells": [
  {
   "cell_type": "markdown",
   "metadata": {},
   "source": [
    "# Get data from lightning talks"
   ]
  },
  {
   "cell_type": "markdown",
   "metadata": {},
   "source": [
    "The following code scrapes the html from the lightning talks sites to put the data (title, speaker, description, votes) into csv files for each year. Note the older lightning talks (2010-2014) are from a different website that is now defunct; html files are from the Internet Archive's Wayback Machine. Links to the sites are in the comments.  "
   ]
  },
  {
   "cell_type": "code",
   "execution_count": 1,
   "metadata": {},
   "outputs": [],
   "source": [
    "import csv\n",
    "from bs4 import BeautifulSoup"
   ]
  },
  {
   "cell_type": "code",
   "execution_count": 2,
   "metadata": {},
   "outputs": [],
   "source": [
    "# http://lightningtalks.ire.org/2015.html - 2015\n",
    "# http://lightningtalks.ire.org/2016.html - 2016\n",
    "# https://github.com/ireapps/lightning-talks/blob/master/static/2017.html - 2017\n",
    "# http://lightningtalks.ire.org/ - 2018\n",
    "\n",
    "def get_talks_data(year) : \n",
    "\n",
    "    soup = BeautifulSoup(open(year + '.html'), 'html.parser')\n",
    "\n",
    "    content = soup.find_all('div', class_ = 'content-box')\n",
    "    votes_content = soup.find_all('div', class_ = 'num')\n",
    "\n",
    "    f = csv.writer(open(year + '.csv', 'w'))\n",
    "    f.writerow(['title', 'speaker', 'description', 'votes'])\n",
    "\n",
    "    i = 0\n",
    "\n",
    "    for con in content : \n",
    "        title = con.find('h3').get_text().encode('utf-8').strip()\n",
    "        speaker = con.find('p').get_text().encode('utf-8')\n",
    "        description_full = con.find_all('p', class_ = lambda x: x != 'speaker')\n",
    "        for desc in description_full : \n",
    "            description = desc.get_text().encode('utf-8')\n",
    "        votes = votes_content[i].get_text().encode('utf-8')\n",
    "        f.writerow([title, speaker, description, votes])\n",
    "\n",
    "        i += 1"
   ]
  },
  {
   "cell_type": "code",
   "execution_count": 3,
   "metadata": {},
   "outputs": [],
   "source": [
    "get_talks_data('2015')\n",
    "get_talks_data('2016')\n",
    "get_talks_data('2017')\n",
    "get_talks_data('2018')"
   ]
  },
  {
   "cell_type": "code",
   "execution_count": 4,
   "metadata": {},
   "outputs": [],
   "source": [
    "# https://web.archive.org/web/20100428202810/http://ire.aronpilhofer.com/ - 2010\n",
    "# https://web.archive.org/web/20110403205043/http://ire.aronpilhofer.com/ - 2011\n",
    "# https://web.archive.org/web/20120310122142/http://ire.aronpilhofer.com:80/proposals/sort/popular - 2012\n",
    "# https://web.archive.org/web/20130511043212/http://ire.aronpilhofer.com/proposals/sort/popular - 2013\n",
    "# https://web.archive.org/web/20140323004809/http://ire.aronpilhofer.com/ - 2014\n",
    "\n",
    "def get_talks_data_old(year) : \n",
    "\n",
    "    soup = BeautifulSoup(open(year + '.html'), 'html.parser')\n",
    "    content = soup.find_all('div', class_ = 'proposal_text')\n",
    "    votes_content = soup.find_all('p', id = 'vote_number_number')\n",
    "    \n",
    "    f = csv.writer(open(year + '.csv', 'w'))\n",
    "    f.writerow(['title', 'speaker', 'description', 'votes'])\n",
    "\n",
    "    i = 0\n",
    "\n",
    "    for con in content :\n",
    "        title = con.find('h2').get_text()\n",
    "        speaker = con.find('p', class_ = 'byline').get_text()\n",
    "        description = con.find('p', class_ = 'description').get_text()\n",
    "        votes = votes_content[i].get_text()\n",
    "\n",
    "        f.writerow([title, speaker, description, votes])\n",
    "\n",
    "        i += 1"
   ]
  },
  {
   "cell_type": "code",
   "execution_count": 5,
   "metadata": {
    "scrolled": false
   },
   "outputs": [],
   "source": [
    "get_talks_data_old('2010')\n",
    "get_talks_data_old('2011')\n",
    "get_talks_data_old('2012')\n",
    "get_talks_data_old('2013')\n",
    "get_talks_data_old('2014')"
   ]
  }
 ],
 "metadata": {
  "kernelspec": {
   "display_name": "Python 3",
   "language": "python",
   "name": "python3"
  },
  "language_info": {
   "codemirror_mode": {
    "name": "ipython",
    "version": 3
   },
   "file_extension": ".py",
   "mimetype": "text/x-python",
   "name": "python",
   "nbconvert_exporter": "python",
   "pygments_lexer": "ipython3",
   "version": "3.6.2"
  }
 },
 "nbformat": 4,
 "nbformat_minor": 2
}
