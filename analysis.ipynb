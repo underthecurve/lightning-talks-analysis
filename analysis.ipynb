{
 "cells": [
  {
   "cell_type": "markdown",
   "metadata": {},
   "source": [
    "# Nine years of NICAR lightning talks (and cats)"
   ]
  },
  {
   "cell_type": "markdown",
   "metadata": {},
   "source": [
    "by [Christine Zhang](https://twitter.com/christinezhang)"
   ]
  },
  {
   "cell_type": "markdown",
   "metadata": {},
   "source": [
    "I wrote a post for Source about the lightning talks at the annual NICAR (National Institute for Computer-Assisted Reporting, aka \"data journalism\") conference. \n",
    "\n",
    "Here is the code to generate some of the key analysis, including the following sections/sentences:\n",
    "\n",
    "**NICAR = NICAT**\n",
    "- all the cat references in the NICAR lightning talks\n",
    "\n",
    "**Students at the NICAR lightning talks**\n",
    "- \"... the only non-veteran data journalist on the 2010 lineup was first-time NICAR attendee and then-Medill School of Journalism student Michelle Minkoff, who proposed a talk on “The hidden power of Javascript”\"\n",
    "- \"It wasn’t until four years later that another student delivered a lightning talk—Tyler Fisher, a senior at Northwestern and Student Fellow at the University’s Knight Lab in 2014. Fisher, also a first-time NICAR attendee, went on to work as a News Applications Developer at NPR, giving another lightning talk in 2017...\"\n",
    "- \" ... since Tyler Fisher’s 2014 talk, there has been a Knight Lab student proposal every year except 2017 (and a Knight Lab speaker in 2016 and 2018).\"\n",
    "\n",
    "**First-timers at the NICAR lightning talks**\n",
    "- \"In 2014, just 22 percent of the top 10 talks were from people who had never proposed before; in 2018, it was 62 percent (for people who had never spoken, the figures are 33 and 85 percent, respectively).\"\n",
    "\n",
    "**NICAR lightning talks demographics**\n",
    "- \"Females and non-binary individuals pitched 23 percent of the talks in 2014; in 2016, this figure has more than doubled, to 47 percent in 2018. In 2017, nearly half of the talks voted into the top 10 came from non-male speakers––an all-time high.\"\n",
    "- \"Though there have been proposals from international speakers every year since 2012, only once, in 2017, has a non-U.S. speaker been voted into the top 10 (“How to collaborate when no one understands what you do” by the Guardian UK’s Data Projects Editor Caelainn Barr).\"\n",
    "- \" ... most speakers, unsurprisingly, come from New York or D.C.\"\n",
    "\n",
    "**The distribution of NICAR lightning talk votes over the years**\n",
    "- \" ... the top 10 talks got 62 percent of the votes in 2010, and 50 percent of the votes in 2018.\"\n",
    "- \" ... (in the unlikely event that each talk received an equal number of votes in 2018, we’d expect the top 10 to get 29 percent of the votes).\""
   ]
  },
  {
   "cell_type": "markdown",
   "metadata": {},
   "source": [
    "## Load R libraries"
   ]
  },
  {
   "cell_type": "code",
   "execution_count": 1,
   "metadata": {},
   "outputs": [
    {
     "name": "stderr",
     "output_type": "stream",
     "text": [
      "Loading tidyverse: ggplot2\n",
      "Loading tidyverse: tibble\n",
      "Loading tidyverse: tidyr\n",
      "Loading tidyverse: readr\n",
      "Loading tidyverse: purrr\n",
      "Loading tidyverse: dplyr\n",
      "Conflicts with tidy packages ---------------------------------------------------\n",
      "filter(): dplyr, stats\n",
      "lag():    dplyr, stats\n"
     ]
    }
   ],
   "source": [
    "library('stringr')\n",
    "library('tidyverse')"
   ]
  },
  {
   "cell_type": "markdown",
   "metadata": {},
   "source": [
    "## Read in cleaned lightning talks data"
   ]
  },
  {
   "cell_type": "markdown",
   "metadata": {},
   "source": [
    "The lightning talks data was gathered via the `processing/get_data.ipynb` script from the html of the NICAR lightning talk submission sites and merged using `csvkit`. Information in the following columns, not originally on the lightning talks proposals sites, was entered manually: \n",
    "- `copresented`: 1 = talk was copresented; 0 = not\n",
    "- `copreseenter`: name of copresenter (if any)\n",
    "- `org`: speaker's organizational affiliation at the time of talk proposal\n",
    "- `nonmale`: 1 = yes; 0 = no\n",
    "- `location`: speaker's city/state/country location at the time of talk proposal\n",
    "- `international`: 1 = yes; 0 = no\n",
    "- `top_10`: 1 = talk voted into the top 10 (or 11/12 in case of a tie); 0 = not -- regardless of whether talk was ultimately presented\n",
    "- `gave_talk`: 1 = yes; 0 = no -- sometimes differs from `top_10` if speaker voted into top 10 was not able to present"
   ]
  },
  {
   "cell_type": "code",
   "execution_count": 2,
   "metadata": {},
   "outputs": [
    {
     "name": "stderr",
     "output_type": "stream",
     "text": [
      "Parsed with column specification:\n",
      "cols(\n",
      "  year = col_integer(),\n",
      "  title = col_character(),\n",
      "  speaker = col_character(),\n",
      "  copresented = col_integer(),\n",
      "  copresenter = col_character(),\n",
      "  org = col_character(),\n",
      "  nonmale = col_integer(),\n",
      "  location = col_character(),\n",
      "  international = col_integer(),\n",
      "  description = col_character(),\n",
      "  votes = col_integer(),\n",
      "  top_10 = col_integer(),\n",
      "  gave_talk = col_integer()\n",
      ")\n"
     ]
    }
   ],
   "source": [
    "df <- read_csv('lightningtalks_clean.csv')"
   ]
  },
  {
   "cell_type": "markdown",
   "metadata": {},
   "source": [
    "## NICAR = NICAT"
   ]
  },
  {
   "cell_type": "markdown",
   "metadata": {},
   "source": [
    "Thanks to David Eads for the nickname. Here are all the NICAR lightning talk pitches with \"cats\" in the description, for my \"very important side note about cats\" section."
   ]
  },
  {
   "cell_type": "code",
   "execution_count": 3,
   "metadata": {},
   "outputs": [
    {
     "name": "stderr",
     "output_type": "stream",
     "text": [
      "Warning message:\n",
      "“package ‘bindrcpp’ was built under R version 3.4.4”"
     ]
    },
    {
     "data": {
      "text/html": [
       "<table>\n",
       "<thead><tr><th scope=col>year</th><th scope=col>title</th><th scope=col>speaker</th><th scope=col>copresented</th><th scope=col>copresenter</th><th scope=col>org</th><th scope=col>nonmale</th><th scope=col>location</th><th scope=col>international</th><th scope=col>description</th><th scope=col>votes</th><th scope=col>top_10</th><th scope=col>gave_talk</th></tr></thead>\n",
       "<tbody>\n",
       "\t<tr><td>2012                                                                                                                                                                                                                                                                                                                                                                                                                      </td><td>Cats! Cats! Cats!                                                                                                                                                                                                                                                                                                                                                                                                         </td><td>Aron Pilhofer                                                                                                                                                                                                                                                                                                                                                                                                             </td><td>0                                                                                                                                                                                                                                                                                                                                                                                                                         </td><td>NA                                                                                                                                                                                                                                                                                                                                                                                                                        </td><td>New York Times                                                                                                                                                                                                                                                                                                                                                                                                            </td><td>0                                                                                                                                                                                                                                                                                                                                                                                                                         </td><td>New York, NY                                                                                                                                                                                                                                                                                                                                                                                                              </td><td>0                                                                                                                                                                                                                                                                                                                                                                                                                         </td><td>This presentation will be nothing but pictures of cats! Cute cats, fat cats, skinny cats! Cats! Cats! Cats! Oh, but how about kittens you ask? Will this presentation include kittens? Yes! Kittens and cats!                                                                                                                                                                                                             </td><td>27                                                                                                                                                                                                                                                                                                                                                                                                                        </td><td>1                                                                                                                                                                                                                                                                                                                                                                                                                         </td><td>1                                                                                                                                                                                                                                                                                                                                                                                                                         </td></tr>\n",
       "\t<tr><td>2013                                                                                                                                                                                                                                                                                                                                                                                                                      </td><td>Fucking designers!                                                                                                                                                                                                                                                                                                                                                                                                        </td><td>Aron Pilhofer                                                                                                                                                                                                                                                                                                                                                                                                             </td><td>1                                                                                                                                                                                                                                                                                                                                                                                                                         </td><td>Miranda Mulligan                                                                                                                                                                                                                                                                                                                                                                                                          </td><td>New York Times                                                                                                                                                                                                                                                                                                                                                                                                            </td><td>0                                                                                                                                                                                                                                                                                                                                                                                                                         </td><td>New York, NY                                                                                                                                                                                                                                                                                                                                                                                                              </td><td>0                                                                                                                                                                                                                                                                                                                                                                                                                         </td><td>They are always pointing out shit that has nothing to do with function, always up in your grill about some tiny tweak here, some UX improvement there. Who needs them?!? Actually, we do -- badly. Give us five minutes, and we'll show four practical examples of how design thinking has improved our work, and could improve your's too. Also, we'll show cute cats.                                                   </td><td>38                                                                                                                                                                                                                                                                                                                                                                                                                        </td><td>1                                                                                                                                                                                                                                                                                                                                                                                                                         </td><td>0                                                                                                                                                                                                                                                                                                                                                                                                                         </td></tr>\n",
       "\t<tr><td>2013                                                                                                                                                                                                                                                                                                                                                                                                                      </td><td>mitmproxy for journalism — and cats                                                                                                                                                                                                                                                                                                                                                                                       </td><td>Jeremy Singer-Vine                                                                                                                                                                                                                                                                                                                                                                                                        </td><td>0                                                                                                                                                                                                                                                                                                                                                                                                                         </td><td>NA                                                                                                                                                                                                                                                                                                                                                                                                                        </td><td>Wall Street Journal                                                                                                                                                                                                                                                                                                                                                                                                       </td><td>0                                                                                                                                                                                                                                                                                                                                                                                                                         </td><td>New York, NY                                                                                                                                                                                                                                                                                                                                                                                                              </td><td>0                                                                                                                                                                                                                                                                                                                                                                                                                         </td><td>A brief introduction to mitmproxy — the powerful, versatile, SSL-capable man-in-the-middle proxy. I'll show a few examples of how it's useful for analyzing HTTP(S) traffic, and then demonstrate how to replace every image you see online with photos of cats.                                                                                                                                                          </td><td> 8                                                                                                                                                                                                                                                                                                                                                                                                                        </td><td>0                                                                                                                                                                                                                                                                                                                                                                                                                         </td><td>0                                                                                                                                                                                                                                                                                                                                                                                                                         </td></tr>\n",
       "\t<tr><td>2015                                                                                                                                                                                                                                                                                                                                                                                                                      </td><td>YOU GOT THIS: The agony and ecstasy of data journalism. And cats.                                                                                                                                                                                                                                                                                                                                                         </td><td>David Eads                                                                                                                                                                                                                                                                                                                                                                                                                </td><td>0                                                                                                                                                                                                                                                                                                                                                                                                                         </td><td>NA                                                                                                                                                                                                                                                                                                                                                                                                                        </td><td>NPR                                                                                                                                                                                                                                                                                                                                                                                                                       </td><td>0                                                                                                                                                                                                                                                                                                                                                                                                                         </td><td>Washington, DC                                                                                                                                                                                                                                                                                                                                                                                                            </td><td>0                                                                                                                                                                                                                                                                                                                                                                                                                         </td><td>So many people in our community are doing great work with little thanks and a lot of stress. Let's toast your hard work with affirmations like \"You got this! The social media strategy was just about perfect!\" and \"You got this! The audio doesn't work with in-app browsers, but it works everywhere else!\" along with photos of NICARians' cats. Send your ideas for affirmations and photos of your cat(s) to @eads.</td><td>46                                                                                                                                                                                                                                                                                                                                                                                                                        </td><td>0                                                                                                                                                                                                                                                                                                                                                                                                                         </td><td>0                                                                                                                                                                                                                                                                                                                                                                                                                         </td></tr>\n",
       "\t<tr><td>2016                                                                                                                                                                                                                                                                                                                                                                                                                      </td><td>Cats and Stats                                                                                                                                                                                                                                                                                                                                                                                                            </td><td>Jennifer LaFleur                                                                                                                                                                                                                                                                                                                                                                                                          </td><td>0                                                                                                                                                                                                                                                                                                                                                                                                                         </td><td>NA                                                                                                                                                                                                                                                                                                                                                                                                                        </td><td>Reveal                                                                                                                                                                                                                                                                                                                                                                                                                    </td><td>1                                                                                                                                                                                                                                                                                                                                                                                                                         </td><td>San Francisco, CA                                                                                                                                                                                                                                                                                                                                                                                                         </td><td>0                                                                                                                                                                                                                                                                                                                                                                                                                         </td><td>Fresh off the European tour, it's cats AND stats. Stanley will demonstrate dichotomous variables. You'll learn about sampling from Gordon. Harley will give you tips for examining your data. It's not just cats. It's cats AND stats. Learn through the hilarious antics of the cats of NICARians.                                                                                                                       </td><td>39                                                                                                                                                                                                                                                                                                                                                                                                                        </td><td>1                                                                                                                                                                                                                                                                                                                                                                                                                         </td><td>1                                                                                                                                                                                                                                                                                                                                                                                                                         </td></tr>\n",
       "</tbody>\n",
       "</table>\n"
      ],
      "text/latex": [
       "\\begin{tabular}{r|lllllllllllll}\n",
       " year & title & speaker & copresented & copresenter & org & nonmale & location & international & description & votes & top\\_10 & gave\\_talk\\\\\n",
       "\\hline\n",
       "\t 2012                                                                                                                                                                                                                                                                                                                                                                                                                       & Cats! Cats! Cats!                                                                                                                                                                                                                                                                                                                                                                                                          & Aron Pilhofer                                                                                                                                                                                                                                                                                                                                                                                                              & 0                                                                                                                                                                                                                                                                                                                                                                                                                          & NA                                                                                                                                                                                                                                                                                                                                                                                                                         & New York Times                                                                                                                                                                                                                                                                                                                                                                                                             & 0                                                                                                                                                                                                                                                                                                                                                                                                                          & New York, NY                                                                                                                                                                                                                                                                                                                                                                                                               & 0                                                                                                                                                                                                                                                                                                                                                                                                                          & This presentation will be nothing but pictures of cats! Cute cats, fat cats, skinny cats! Cats! Cats! Cats! Oh, but how about kittens you ask? Will this presentation include kittens? Yes! Kittens and cats!                                                                                                                                                                                                              & 27                                                                                                                                                                                                                                                                                                                                                                                                                         & 1                                                                                                                                                                                                                                                                                                                                                                                                                          & 1                                                                                                                                                                                                                                                                                                                                                                                                                         \\\\\n",
       "\t 2013                                                                                                                                                                                                                                                                                                                                                                                                                       & Fucking designers!                                                                                                                                                                                                                                                                                                                                                                                                         & Aron Pilhofer                                                                                                                                                                                                                                                                                                                                                                                                              & 1                                                                                                                                                                                                                                                                                                                                                                                                                          & Miranda Mulligan                                                                                                                                                                                                                                                                                                                                                                                                           & New York Times                                                                                                                                                                                                                                                                                                                                                                                                             & 0                                                                                                                                                                                                                                                                                                                                                                                                                          & New York, NY                                                                                                                                                                                                                                                                                                                                                                                                               & 0                                                                                                                                                                                                                                                                                                                                                                                                                          & They are always pointing out shit that has nothing to do with function, always up in your grill about some tiny tweak here, some UX improvement there. Who needs them?!? Actually, we do -- badly. Give us five minutes, and we'll show four practical examples of how design thinking has improved our work, and could improve your's too. Also, we'll show cute cats.                                                    & 38                                                                                                                                                                                                                                                                                                                                                                                                                         & 1                                                                                                                                                                                                                                                                                                                                                                                                                          & 0                                                                                                                                                                                                                                                                                                                                                                                                                         \\\\\n",
       "\t 2013                                                                                                                                                                                                                                                                                                                                                                                                                       & mitmproxy for journalism — and cats                                                                                                                                                                                                                                                                                                                                                                                        & Jeremy Singer-Vine                                                                                                                                                                                                                                                                                                                                                                                                         & 0                                                                                                                                                                                                                                                                                                                                                                                                                          & NA                                                                                                                                                                                                                                                                                                                                                                                                                         & Wall Street Journal                                                                                                                                                                                                                                                                                                                                                                                                        & 0                                                                                                                                                                                                                                                                                                                                                                                                                          & New York, NY                                                                                                                                                                                                                                                                                                                                                                                                               & 0                                                                                                                                                                                                                                                                                                                                                                                                                          & A brief introduction to mitmproxy — the powerful, versatile, SSL-capable man-in-the-middle proxy. I'll show a few examples of how it's useful for analyzing HTTP(S) traffic, and then demonstrate how to replace every image you see online with photos of cats.                                                                                                                                                           &  8                                                                                                                                                                                                                                                                                                                                                                                                                         & 0                                                                                                                                                                                                                                                                                                                                                                                                                          & 0                                                                                                                                                                                                                                                                                                                                                                                                                         \\\\\n",
       "\t 2015                                                                                                                                                                                                                                                                                                                                                                                                                       & YOU GOT THIS: The agony and ecstasy of data journalism. And cats.                                                                                                                                                                                                                                                                                                                                                          & David Eads                                                                                                                                                                                                                                                                                                                                                                                                                 & 0                                                                                                                                                                                                                                                                                                                                                                                                                          & NA                                                                                                                                                                                                                                                                                                                                                                                                                         & NPR                                                                                                                                                                                                                                                                                                                                                                                                                        & 0                                                                                                                                                                                                                                                                                                                                                                                                                          & Washington, DC                                                                                                                                                                                                                                                                                                                                                                                                             & 0                                                                                                                                                                                                                                                                                                                                                                                                                          & So many people in our community are doing great work with little thanks and a lot of stress. Let's toast your hard work with affirmations like \"You got this! The social media strategy was just about perfect!\" and \"You got this! The audio doesn't work with in-app browsers, but it works everywhere else!\" along with photos of NICARians' cats. Send your ideas for affirmations and photos of your cat(s) to @eads. & 46                                                                                                                                                                                                                                                                                                                                                                                                                         & 0                                                                                                                                                                                                                                                                                                                                                                                                                          & 0                                                                                                                                                                                                                                                                                                                                                                                                                         \\\\\n",
       "\t 2016                                                                                                                                                                                                                                                                                                                                                                                                                       & Cats and Stats                                                                                                                                                                                                                                                                                                                                                                                                             & Jennifer LaFleur                                                                                                                                                                                                                                                                                                                                                                                                           & 0                                                                                                                                                                                                                                                                                                                                                                                                                          & NA                                                                                                                                                                                                                                                                                                                                                                                                                         & Reveal                                                                                                                                                                                                                                                                                                                                                                                                                     & 1                                                                                                                                                                                                                                                                                                                                                                                                                          & San Francisco, CA                                                                                                                                                                                                                                                                                                                                                                                                          & 0                                                                                                                                                                                                                                                                                                                                                                                                                          & Fresh off the European tour, it's cats AND stats. Stanley will demonstrate dichotomous variables. You'll learn about sampling from Gordon. Harley will give you tips for examining your data. It's not just cats. It's cats AND stats. Learn through the hilarious antics of the cats of NICARians.                                                                                                                        & 39                                                                                                                                                                                                                                                                                                                                                                                                                         & 1                                                                                                                                                                                                                                                                                                                                                                                                                          & 1                                                                                                                                                                                                                                                                                                                                                                                                                         \\\\\n",
       "\\end{tabular}\n"
      ],
      "text/markdown": [
       "\n",
       "year | title | speaker | copresented | copresenter | org | nonmale | location | international | description | votes | top_10 | gave_talk | \n",
       "|---|---|---|---|---|\n",
       "| 2012                                                                                                                                                                                                                                                                                                                                                                                                                       | Cats! Cats! Cats!                                                                                                                                                                                                                                                                                                                                                                                                          | Aron Pilhofer                                                                                                                                                                                                                                                                                                                                                                                                              | 0                                                                                                                                                                                                                                                                                                                                                                                                                          | NA                                                                                                                                                                                                                                                                                                                                                                                                                         | New York Times                                                                                                                                                                                                                                                                                                                                                                                                             | 0                                                                                                                                                                                                                                                                                                                                                                                                                          | New York, NY                                                                                                                                                                                                                                                                                                                                                                                                               | 0                                                                                                                                                                                                                                                                                                                                                                                                                          | This presentation will be nothing but pictures of cats! Cute cats, fat cats, skinny cats! Cats! Cats! Cats! Oh, but how about kittens you ask? Will this presentation include kittens? Yes! Kittens and cats!                                                                                                                                                                                                              | 27                                                                                                                                                                                                                                                                                                                                                                                                                         | 1                                                                                                                                                                                                                                                                                                                                                                                                                          | 1                                                                                                                                                                                                                                                                                                                                                                                                                          | \n",
       "| 2013                                                                                                                                                                                                                                                                                                                                                                                                                       | Fucking designers!                                                                                                                                                                                                                                                                                                                                                                                                         | Aron Pilhofer                                                                                                                                                                                                                                                                                                                                                                                                              | 1                                                                                                                                                                                                                                                                                                                                                                                                                          | Miranda Mulligan                                                                                                                                                                                                                                                                                                                                                                                                           | New York Times                                                                                                                                                                                                                                                                                                                                                                                                             | 0                                                                                                                                                                                                                                                                                                                                                                                                                          | New York, NY                                                                                                                                                                                                                                                                                                                                                                                                               | 0                                                                                                                                                                                                                                                                                                                                                                                                                          | They are always pointing out shit that has nothing to do with function, always up in your grill about some tiny tweak here, some UX improvement there. Who needs them?!? Actually, we do -- badly. Give us five minutes, and we'll show four practical examples of how design thinking has improved our work, and could improve your's too. Also, we'll show cute cats.                                                    | 38                                                                                                                                                                                                                                                                                                                                                                                                                         | 1                                                                                                                                                                                                                                                                                                                                                                                                                          | 0                                                                                                                                                                                                                                                                                                                                                                                                                          | \n",
       "| 2013                                                                                                                                                                                                                                                                                                                                                                                                                       | mitmproxy for journalism — and cats                                                                                                                                                                                                                                                                                                                                                                                        | Jeremy Singer-Vine                                                                                                                                                                                                                                                                                                                                                                                                         | 0                                                                                                                                                                                                                                                                                                                                                                                                                          | NA                                                                                                                                                                                                                                                                                                                                                                                                                         | Wall Street Journal                                                                                                                                                                                                                                                                                                                                                                                                        | 0                                                                                                                                                                                                                                                                                                                                                                                                                          | New York, NY                                                                                                                                                                                                                                                                                                                                                                                                               | 0                                                                                                                                                                                                                                                                                                                                                                                                                          | A brief introduction to mitmproxy — the powerful, versatile, SSL-capable man-in-the-middle proxy. I'll show a few examples of how it's useful for analyzing HTTP(S) traffic, and then demonstrate how to replace every image you see online with photos of cats.                                                                                                                                                           |  8                                                                                                                                                                                                                                                                                                                                                                                                                         | 0                                                                                                                                                                                                                                                                                                                                                                                                                          | 0                                                                                                                                                                                                                                                                                                                                                                                                                          | \n",
       "| 2015                                                                                                                                                                                                                                                                                                                                                                                                                       | YOU GOT THIS: The agony and ecstasy of data journalism. And cats.                                                                                                                                                                                                                                                                                                                                                          | David Eads                                                                                                                                                                                                                                                                                                                                                                                                                 | 0                                                                                                                                                                                                                                                                                                                                                                                                                          | NA                                                                                                                                                                                                                                                                                                                                                                                                                         | NPR                                                                                                                                                                                                                                                                                                                                                                                                                        | 0                                                                                                                                                                                                                                                                                                                                                                                                                          | Washington, DC                                                                                                                                                                                                                                                                                                                                                                                                             | 0                                                                                                                                                                                                                                                                                                                                                                                                                          | So many people in our community are doing great work with little thanks and a lot of stress. Let's toast your hard work with affirmations like \"You got this! The social media strategy was just about perfect!\" and \"You got this! The audio doesn't work with in-app browsers, but it works everywhere else!\" along with photos of NICARians' cats. Send your ideas for affirmations and photos of your cat(s) to @eads. | 46                                                                                                                                                                                                                                                                                                                                                                                                                         | 0                                                                                                                                                                                                                                                                                                                                                                                                                          | 0                                                                                                                                                                                                                                                                                                                                                                                                                          | \n",
       "| 2016                                                                                                                                                                                                                                                                                                                                                                                                                       | Cats and Stats                                                                                                                                                                                                                                                                                                                                                                                                             | Jennifer LaFleur                                                                                                                                                                                                                                                                                                                                                                                                           | 0                                                                                                                                                                                                                                                                                                                                                                                                                          | NA                                                                                                                                                                                                                                                                                                                                                                                                                         | Reveal                                                                                                                                                                                                                                                                                                                                                                                                                     | 1                                                                                                                                                                                                                                                                                                                                                                                                                          | San Francisco, CA                                                                                                                                                                                                                                                                                                                                                                                                          | 0                                                                                                                                                                                                                                                                                                                                                                                                                          | Fresh off the European tour, it's cats AND stats. Stanley will demonstrate dichotomous variables. You'll learn about sampling from Gordon. Harley will give you tips for examining your data. It's not just cats. It's cats AND stats. Learn through the hilarious antics of the cats of NICARians.                                                                                                                        | 39                                                                                                                                                                                                                                                                                                                                                                                                                         | 1                                                                                                                                                                                                                                                                                                                                                                                                                          | 1                                                                                                                                                                                                                                                                                                                                                                                                                          | \n",
       "\n",
       "\n"
      ],
      "text/plain": [
       "  year title                                                            \n",
       "1 2012 Cats! Cats! Cats!                                                \n",
       "2 2013 Fucking designers!                                               \n",
       "3 2013 mitmproxy for journalism — and cats                              \n",
       "4 2015 YOU GOT THIS: The agony and ecstasy of data journalism. And cats.\n",
       "5 2016 Cats and Stats                                                   \n",
       "  speaker            copresented copresenter      org                 nonmale\n",
       "1 Aron Pilhofer      0           NA               New York Times      0      \n",
       "2 Aron Pilhofer      1           Miranda Mulligan New York Times      0      \n",
       "3 Jeremy Singer-Vine 0           NA               Wall Street Journal 0      \n",
       "4 David Eads         0           NA               NPR                 0      \n",
       "5 Jennifer LaFleur   0           NA               Reveal              1      \n",
       "  location          international\n",
       "1 New York, NY      0            \n",
       "2 New York, NY      0            \n",
       "3 New York, NY      0            \n",
       "4 Washington, DC    0            \n",
       "5 San Francisco, CA 0            \n",
       "  description                                                                                                                                                                                                                                                                                                                                                                                                               \n",
       "1 This presentation will be nothing but pictures of cats! Cute cats, fat cats, skinny cats! Cats! Cats! Cats! Oh, but how about kittens you ask? Will this presentation include kittens? Yes! Kittens and cats!                                                                                                                                                                                                             \n",
       "2 They are always pointing out shit that has nothing to do with function, always up in your grill about some tiny tweak here, some UX improvement there. Who needs them?!? Actually, we do -- badly. Give us five minutes, and we'll show four practical examples of how design thinking has improved our work, and could improve your's too. Also, we'll show cute cats.                                                   \n",
       "3 A brief introduction to mitmproxy — the powerful, versatile, SSL-capable man-in-the-middle proxy. I'll show a few examples of how it's useful for analyzing HTTP(S) traffic, and then demonstrate how to replace every image you see online with photos of cats.                                                                                                                                                          \n",
       "4 So many people in our community are doing great work with little thanks and a lot of stress. Let's toast your hard work with affirmations like \"You got this! The social media strategy was just about perfect!\" and \"You got this! The audio doesn't work with in-app browsers, but it works everywhere else!\" along with photos of NICARians' cats. Send your ideas for affirmations and photos of your cat(s) to @eads.\n",
       "5 Fresh off the European tour, it's cats AND stats. Stanley will demonstrate dichotomous variables. You'll learn about sampling from Gordon. Harley will give you tips for examining your data. It's not just cats. It's cats AND stats. Learn through the hilarious antics of the cats of NICARians.                                                                                                                       \n",
       "  votes top_10 gave_talk\n",
       "1 27    1      1        \n",
       "2 38    1      0        \n",
       "3  8    0      0        \n",
       "4 46    0      0        \n",
       "5 39    1      1        "
      ]
     },
     "metadata": {},
     "output_type": "display_data"
    }
   ],
   "source": [
    "df %>% filter(grepl('cats', description))"
   ]
  },
  {
   "cell_type": "markdown",
   "metadata": {},
   "source": [
    "## Students at the NICAR lightning talks"
   ]
  },
  {
   "cell_type": "markdown",
   "metadata": {},
   "source": [
    "### \"... the only non-veteran data journalist on the 2010 lineup was first-time NICAR attendee and then-Medill School of Journalism student Michelle Minkoff, who proposed a talk on “The hidden power of Javascript”\" "
   ]
  },
  {
   "cell_type": "markdown",
   "metadata": {},
   "source": [
    "Let's take a look at 2010's lineup:"
   ]
  },
  {
   "cell_type": "code",
   "execution_count": 4,
   "metadata": {},
   "outputs": [
    {
     "data": {
      "text/html": [
       "<table>\n",
       "<thead><tr><th scope=col>title</th><th scope=col>speaker</th><th scope=col>org</th><th scope=col>location</th></tr></thead>\n",
       "<tbody>\n",
       "\t<tr><td>Hello, Newsroom! Build out a GIS-enabled web app in &lt; five minutes</td><td><span style=white-space:pre-wrap>Brian Boyer       </span>           </td><td><span style=white-space:pre-wrap>Chicago Tribune            </span>  </td><td><span style=white-space:pre-wrap>Chicago, IL      </span>            </td></tr>\n",
       "\t<tr><td>Google Charts. Easy, Clear, Indestructable.                       </td><td>Ben Welsh                                                         </td><td>Los Angeles Times                                                 </td><td>Los Angeles, CA                                                   </td></tr>\n",
       "\t<tr><td>Data Manipulation or Graphics with R                              </td><td>Bill Alpert                                                       </td><td>Barron's                                                          </td><td>New York, NY                                                      </td></tr>\n",
       "\t<tr><td>Using an API with Excel                                           </td><td>Derek Willis                                                      </td><td>New York Times                                                    </td><td>Silver Spring, MD                                                 </td></tr>\n",
       "\t<tr><td>Like Snowboard Cross, but With Data                               </td><td>Scott Klein                                                       </td><td>ProPublica                                                        </td><td>New York, NY                                                      </td></tr>\n",
       "\t<tr><td>Essential Queries for SQL Server                                  </td><td>Anthony DeBarros                                                  </td><td>USA Today                                                         </td><td>McLean, VA                                                        </td></tr>\n",
       "\t<tr><td>The new free visualization tool                                   </td><td>Sarah Cohen                                                       </td><td>Reporter's Lab                                                    </td><td>Durham, NC                                                        </td></tr>\n",
       "\t<tr><td>The hidden power of Javascript                                    </td><td>Michelle Minkoff                                                  </td><td>Medill School of Journalism                                       </td><td>Washington, DC                                                    </td></tr>\n",
       "\t<tr><td>Easy peasy due diligence                                          </td><td>Danielle Cervantes                                                </td><td>San Diego Union-Tribune                                           </td><td>San Diego, CA                                                     </td></tr>\n",
       "\t<tr><td>Easy interactive charts with Open Flash Charts                    </td><td>Tim Henderson                                                     </td><td>Pew Charitable Trusts                                             </td><td>Washington, DC                                                    </td></tr>\n",
       "</tbody>\n",
       "</table>\n"
      ],
      "text/latex": [
       "\\begin{tabular}{r|llll}\n",
       " title & speaker & org & location\\\\\n",
       "\\hline\n",
       "\t Hello, Newsroom! Build out a GIS-enabled web app in < five minutes & Brian Boyer                                                        & Chicago Tribune                                                    & Chicago, IL                                                       \\\\\n",
       "\t Google Charts. Easy, Clear, Indestructable.                        & Ben Welsh                                                          & Los Angeles Times                                                  & Los Angeles, CA                                                   \\\\\n",
       "\t Data Manipulation or Graphics with R                               & Bill Alpert                                                        & Barron's                                                           & New York, NY                                                      \\\\\n",
       "\t Using an API with Excel                                            & Derek Willis                                                       & New York Times                                                     & Silver Spring, MD                                                 \\\\\n",
       "\t Like Snowboard Cross, but With Data                                & Scott Klein                                                        & ProPublica                                                         & New York, NY                                                      \\\\\n",
       "\t Essential Queries for SQL Server                                   & Anthony DeBarros                                                   & USA Today                                                          & McLean, VA                                                        \\\\\n",
       "\t The new free visualization tool                                    & Sarah Cohen                                                        & Reporter's Lab                                                     & Durham, NC                                                        \\\\\n",
       "\t The hidden power of Javascript                                     & Michelle Minkoff                                                   & Medill School of Journalism                                        & Washington, DC                                                    \\\\\n",
       "\t Easy peasy due diligence                                           & Danielle Cervantes                                                 & San Diego Union-Tribune                                            & San Diego, CA                                                     \\\\\n",
       "\t Easy interactive charts with Open Flash Charts                     & Tim Henderson                                                      & Pew Charitable Trusts                                              & Washington, DC                                                    \\\\\n",
       "\\end{tabular}\n"
      ],
      "text/markdown": [
       "\n",
       "title | speaker | org | location | \n",
       "|---|---|---|---|---|---|---|---|---|---|\n",
       "| Hello, Newsroom! Build out a GIS-enabled web app in < five minutes | Brian Boyer                                                        | Chicago Tribune                                                    | Chicago, IL                                                        | \n",
       "| Google Charts. Easy, Clear, Indestructable.                        | Ben Welsh                                                          | Los Angeles Times                                                  | Los Angeles, CA                                                    | \n",
       "| Data Manipulation or Graphics with R                               | Bill Alpert                                                        | Barron's                                                           | New York, NY                                                       | \n",
       "| Using an API with Excel                                            | Derek Willis                                                       | New York Times                                                     | Silver Spring, MD                                                  | \n",
       "| Like Snowboard Cross, but With Data                                | Scott Klein                                                        | ProPublica                                                         | New York, NY                                                       | \n",
       "| Essential Queries for SQL Server                                   | Anthony DeBarros                                                   | USA Today                                                          | McLean, VA                                                         | \n",
       "| The new free visualization tool                                    | Sarah Cohen                                                        | Reporter's Lab                                                     | Durham, NC                                                         | \n",
       "| The hidden power of Javascript                                     | Michelle Minkoff                                                   | Medill School of Journalism                                        | Washington, DC                                                     | \n",
       "| Easy peasy due diligence                                           | Danielle Cervantes                                                 | San Diego Union-Tribune                                            | San Diego, CA                                                      | \n",
       "| Easy interactive charts with Open Flash Charts                     | Tim Henderson                                                      | Pew Charitable Trusts                                              | Washington, DC                                                     | \n",
       "\n",
       "\n"
      ],
      "text/plain": [
       "   title                                                             \n",
       "1  Hello, Newsroom! Build out a GIS-enabled web app in < five minutes\n",
       "2  Google Charts. Easy, Clear, Indestructable.                       \n",
       "3  Data Manipulation or Graphics with R                              \n",
       "4  Using an API with Excel                                           \n",
       "5  Like Snowboard Cross, but With Data                               \n",
       "6  Essential Queries for SQL Server                                  \n",
       "7  The new free visualization tool                                   \n",
       "8  The hidden power of Javascript                                    \n",
       "9  Easy peasy due diligence                                          \n",
       "10 Easy interactive charts with Open Flash Charts                    \n",
       "   speaker            org                         location         \n",
       "1  Brian Boyer        Chicago Tribune             Chicago, IL      \n",
       "2  Ben Welsh          Los Angeles Times           Los Angeles, CA  \n",
       "3  Bill Alpert        Barron's                    New York, NY     \n",
       "4  Derek Willis       New York Times              Silver Spring, MD\n",
       "5  Scott Klein        ProPublica                  New York, NY     \n",
       "6  Anthony DeBarros   USA Today                   McLean, VA       \n",
       "7  Sarah Cohen        Reporter's Lab              Durham, NC       \n",
       "8  Michelle Minkoff   Medill School of Journalism Washington, DC   \n",
       "9  Danielle Cervantes San Diego Union-Tribune     San Diego, CA    \n",
       "10 Tim Henderson      Pew Charitable Trusts       Washington, DC   "
      ]
     },
     "metadata": {},
     "output_type": "display_data"
    }
   ],
   "source": [
    "df %>% filter(year == 2010 & gave_talk == 1) %>% select(title, speaker, org, location)"
   ]
  },
  {
   "cell_type": "markdown",
   "metadata": {},
   "source": [
    "Minkoff is the only student. A look through [NICAR conference programs](http://underthecurve.github.io/nicar/) shows the other speakers were present and led sessions at past NICARs."
   ]
  },
  {
   "cell_type": "markdown",
   "metadata": {},
   "source": [
    "### \"It wasn’t until four years later that another student delivered a lightning talk—Tyler Fisher, a senior at Northwestern and Student Fellow at the University’s Knight Lab in 2014. Fisher, also a first-time NICAR attendee, went on to work as a News Applications Developer at NPR, giving another lightning talk in 2017...\""
   ]
  },
  {
   "cell_type": "markdown",
   "metadata": {},
   "source": [
    "Let's take a look at the organizational affiliations of speakers who gave talks in later years:"
   ]
  },
  {
   "cell_type": "code",
   "execution_count": 5,
   "metadata": {},
   "outputs": [
    {
     "data": {
      "text/html": [
       "<table>\n",
       "<thead><tr><th scope=col>org</th><th scope=col>n</th></tr></thead>\n",
       "<tbody>\n",
       "\t<tr><td>Associated Press                           </td><td> 1                                         </td></tr>\n",
       "\t<tr><td>Atlanta Journal-Constitution               </td><td> 1                                         </td></tr>\n",
       "\t<tr><td>Chicago Tribune                            </td><td> 1                                         </td></tr>\n",
       "\t<tr><td>Chronicle of Higher Education              </td><td> 1                                         </td></tr>\n",
       "\t<tr><td>Columbia University Journalism School      </td><td> 2                                         </td></tr>\n",
       "\t<tr><td>Computerworld                              </td><td> 1                                         </td></tr>\n",
       "\t<tr><td>Hot Type Consulting                        </td><td> 1                                         </td></tr>\n",
       "\t<tr><td>Houston Chronicle                          </td><td> 1                                         </td></tr>\n",
       "\t<tr><td>Independent                                </td><td> 3                                         </td></tr>\n",
       "\t<tr><td>Kentucky Center for Investigative Reporting</td><td> 1                                         </td></tr>\n",
       "\t<tr><td>Knight Lab                                 </td><td> 3                                         </td></tr>\n",
       "\t<tr><td>Los Angeles Times                          </td><td> 9                                         </td></tr>\n",
       "\t<tr><td>New Scientist                              </td><td> 1                                         </td></tr>\n",
       "\t<tr><td>New York Times                             </td><td>11                                         </td></tr>\n",
       "\t<tr><td>New York Times Regional Media Group        </td><td> 1                                         </td></tr>\n",
       "\t<tr><td>News21                                     </td><td> 1                                         </td></tr>\n",
       "\t<tr><td>NPR                                        </td><td> 4                                         </td></tr>\n",
       "\t<tr><td>PBS                                        </td><td> 1                                         </td></tr>\n",
       "\t<tr><td>ProPublica                                 </td><td>11                                         </td></tr>\n",
       "\t<tr><td>Quartz                                     </td><td> 1                                         </td></tr>\n",
       "\t<tr><td>Reveal                                     </td><td> 2                                         </td></tr>\n",
       "\t<tr><td>Spokesman-Review                           </td><td> 3                                         </td></tr>\n",
       "\t<tr><td>St. Petersburg Times                       </td><td> 1                                         </td></tr>\n",
       "\t<tr><td>Stanford University                        </td><td> 1                                         </td></tr>\n",
       "\t<tr><td>Tampa Bay Times                            </td><td> 1                                         </td></tr>\n",
       "\t<tr><td>Texas Tribune                              </td><td> 1                                         </td></tr>\n",
       "\t<tr><td>The Guardian                               </td><td> 1                                         </td></tr>\n",
       "\t<tr><td>Uber                                       </td><td> 1                                         </td></tr>\n",
       "\t<tr><td>University of Nebraska-Lincoln             </td><td> 2                                         </td></tr>\n",
       "\t<tr><td>USA Today                                  </td><td> 1                                         </td></tr>\n",
       "\t<tr><td>Wall Street Journal                        </td><td> 1                                         </td></tr>\n",
       "\t<tr><td>Washington Post                            </td><td> 9                                         </td></tr>\n",
       "\t<tr><td>Washington Times                           </td><td> 1                                         </td></tr>\n",
       "</tbody>\n",
       "</table>\n"
      ],
      "text/latex": [
       "\\begin{tabular}{r|ll}\n",
       " org & n\\\\\n",
       "\\hline\n",
       "\t Associated Press                            &  1                                         \\\\\n",
       "\t Atlanta Journal-Constitution                &  1                                         \\\\\n",
       "\t Chicago Tribune                             &  1                                         \\\\\n",
       "\t Chronicle of Higher Education               &  1                                         \\\\\n",
       "\t Columbia University Journalism School       &  2                                         \\\\\n",
       "\t Computerworld                               &  1                                         \\\\\n",
       "\t Hot Type Consulting                         &  1                                         \\\\\n",
       "\t Houston Chronicle                           &  1                                         \\\\\n",
       "\t Independent                                 &  3                                         \\\\\n",
       "\t Kentucky Center for Investigative Reporting &  1                                         \\\\\n",
       "\t Knight Lab                                  &  3                                         \\\\\n",
       "\t Los Angeles Times                           &  9                                         \\\\\n",
       "\t New Scientist                               &  1                                         \\\\\n",
       "\t New York Times                              & 11                                         \\\\\n",
       "\t New York Times Regional Media Group         &  1                                         \\\\\n",
       "\t News21                                      &  1                                         \\\\\n",
       "\t NPR                                         &  4                                         \\\\\n",
       "\t PBS                                         &  1                                         \\\\\n",
       "\t ProPublica                                  & 11                                         \\\\\n",
       "\t Quartz                                      &  1                                         \\\\\n",
       "\t Reveal                                      &  2                                         \\\\\n",
       "\t Spokesman-Review                            &  3                                         \\\\\n",
       "\t St. Petersburg Times                        &  1                                         \\\\\n",
       "\t Stanford University                         &  1                                         \\\\\n",
       "\t Tampa Bay Times                             &  1                                         \\\\\n",
       "\t Texas Tribune                               &  1                                         \\\\\n",
       "\t The Guardian                                &  1                                         \\\\\n",
       "\t Uber                                        &  1                                         \\\\\n",
       "\t University of Nebraska-Lincoln              &  2                                         \\\\\n",
       "\t USA Today                                   &  1                                         \\\\\n",
       "\t Wall Street Journal                         &  1                                         \\\\\n",
       "\t Washington Post                             &  9                                         \\\\\n",
       "\t Washington Times                            &  1                                         \\\\\n",
       "\\end{tabular}\n"
      ],
      "text/markdown": [
       "\n",
       "org | n | \n",
       "|---|---|---|---|---|---|---|---|---|---|---|---|---|---|---|---|---|---|---|---|---|---|---|---|---|---|---|---|---|---|---|---|---|\n",
       "| Associated Press                            |  1                                          | \n",
       "| Atlanta Journal-Constitution                |  1                                          | \n",
       "| Chicago Tribune                             |  1                                          | \n",
       "| Chronicle of Higher Education               |  1                                          | \n",
       "| Columbia University Journalism School       |  2                                          | \n",
       "| Computerworld                               |  1                                          | \n",
       "| Hot Type Consulting                         |  1                                          | \n",
       "| Houston Chronicle                           |  1                                          | \n",
       "| Independent                                 |  3                                          | \n",
       "| Kentucky Center for Investigative Reporting |  1                                          | \n",
       "| Knight Lab                                  |  3                                          | \n",
       "| Los Angeles Times                           |  9                                          | \n",
       "| New Scientist                               |  1                                          | \n",
       "| New York Times                              | 11                                          | \n",
       "| New York Times Regional Media Group         |  1                                          | \n",
       "| News21                                      |  1                                          | \n",
       "| NPR                                         |  4                                          | \n",
       "| PBS                                         |  1                                          | \n",
       "| ProPublica                                  | 11                                          | \n",
       "| Quartz                                      |  1                                          | \n",
       "| Reveal                                      |  2                                          | \n",
       "| Spokesman-Review                            |  3                                          | \n",
       "| St. Petersburg Times                        |  1                                          | \n",
       "| Stanford University                         |  1                                          | \n",
       "| Tampa Bay Times                             |  1                                          | \n",
       "| Texas Tribune                               |  1                                          | \n",
       "| The Guardian                                |  1                                          | \n",
       "| Uber                                        |  1                                          | \n",
       "| University of Nebraska-Lincoln              |  2                                          | \n",
       "| USA Today                                   |  1                                          | \n",
       "| Wall Street Journal                         |  1                                          | \n",
       "| Washington Post                             |  9                                          | \n",
       "| Washington Times                            |  1                                          | \n",
       "\n",
       "\n"
      ],
      "text/plain": [
       "   org                                         n \n",
       "1  Associated Press                             1\n",
       "2  Atlanta Journal-Constitution                 1\n",
       "3  Chicago Tribune                              1\n",
       "4  Chronicle of Higher Education                1\n",
       "5  Columbia University Journalism School        2\n",
       "6  Computerworld                                1\n",
       "7  Hot Type Consulting                          1\n",
       "8  Houston Chronicle                            1\n",
       "9  Independent                                  3\n",
       "10 Kentucky Center for Investigative Reporting  1\n",
       "11 Knight Lab                                   3\n",
       "12 Los Angeles Times                            9\n",
       "13 New Scientist                                1\n",
       "14 New York Times                              11\n",
       "15 New York Times Regional Media Group          1\n",
       "16 News21                                       1\n",
       "17 NPR                                          4\n",
       "18 PBS                                          1\n",
       "19 ProPublica                                  11\n",
       "20 Quartz                                       1\n",
       "21 Reveal                                       2\n",
       "22 Spokesman-Review                             3\n",
       "23 St. Petersburg Times                         1\n",
       "24 Stanford University                          1\n",
       "25 Tampa Bay Times                              1\n",
       "26 Texas Tribune                                1\n",
       "27 The Guardian                                 1\n",
       "28 Uber                                         1\n",
       "29 University of Nebraska-Lincoln               2\n",
       "30 USA Today                                    1\n",
       "31 Wall Street Journal                          1\n",
       "32 Washington Post                              9\n",
       "33 Washington Times                             1"
      ]
     },
     "metadata": {},
     "output_type": "display_data"
    }
   ],
   "source": [
    "df %>% filter(year > 2010 & gave_talk == 1) %>% group_by(org) %>% summarise(n = n()) "
   ]
  },
  {
   "cell_type": "markdown",
   "metadata": {},
   "source": [
    "The schools on this list are: Columbia University Journalism School, Knight Lab, Stanford University, University of Nebraska-Lincoln"
   ]
  },
  {
   "cell_type": "code",
   "execution_count": 6,
   "metadata": {},
   "outputs": [
    {
     "data": {
      "text/html": [
       "<table>\n",
       "<thead><tr><th scope=col>year</th><th scope=col>speaker</th><th scope=col>org</th></tr></thead>\n",
       "<tbody>\n",
       "\t<tr><td>2012                                 </td><td>Matt Waite                           </td><td>University of Nebraska-Lincoln       </td></tr>\n",
       "\t<tr><td>2013                                 </td><td>Matt Waite                           </td><td>University of Nebraska-Lincoln       </td></tr>\n",
       "\t<tr><td>2014                                 </td><td>Tyler Fisher                         </td><td>Knight Lab                           </td></tr>\n",
       "\t<tr><td>2016                                 </td><td>Dan Nguyen                           </td><td>Stanford University                  </td></tr>\n",
       "\t<tr><td>2016                                 </td><td>Nicole Zhu                           </td><td>Knight Lab                           </td></tr>\n",
       "\t<tr><td>2016                                 </td><td>Jonathan Stray                       </td><td>Columbia University Journalism School</td></tr>\n",
       "\t<tr><td>2018                                 </td><td>Jonathan Soma                        </td><td>Columbia University Journalism School</td></tr>\n",
       "\t<tr><td>2018                                 </td><td>Kelly Calagna                        </td><td>Knight Lab                           </td></tr>\n",
       "</tbody>\n",
       "</table>\n"
      ],
      "text/latex": [
       "\\begin{tabular}{r|lll}\n",
       " year & speaker & org\\\\\n",
       "\\hline\n",
       "\t 2012                                  & Matt Waite                            & University of Nebraska-Lincoln       \\\\\n",
       "\t 2013                                  & Matt Waite                            & University of Nebraska-Lincoln       \\\\\n",
       "\t 2014                                  & Tyler Fisher                          & Knight Lab                           \\\\\n",
       "\t 2016                                  & Dan Nguyen                            & Stanford University                  \\\\\n",
       "\t 2016                                  & Nicole Zhu                            & Knight Lab                           \\\\\n",
       "\t 2016                                  & Jonathan Stray                        & Columbia University Journalism School\\\\\n",
       "\t 2018                                  & Jonathan Soma                         & Columbia University Journalism School\\\\\n",
       "\t 2018                                  & Kelly Calagna                         & Knight Lab                           \\\\\n",
       "\\end{tabular}\n"
      ],
      "text/markdown": [
       "\n",
       "year | speaker | org | \n",
       "|---|---|---|---|---|---|---|---|\n",
       "| 2012                                  | Matt Waite                            | University of Nebraska-Lincoln        | \n",
       "| 2013                                  | Matt Waite                            | University of Nebraska-Lincoln        | \n",
       "| 2014                                  | Tyler Fisher                          | Knight Lab                            | \n",
       "| 2016                                  | Dan Nguyen                            | Stanford University                   | \n",
       "| 2016                                  | Nicole Zhu                            | Knight Lab                            | \n",
       "| 2016                                  | Jonathan Stray                        | Columbia University Journalism School | \n",
       "| 2018                                  | Jonathan Soma                         | Columbia University Journalism School | \n",
       "| 2018                                  | Kelly Calagna                         | Knight Lab                            | \n",
       "\n",
       "\n"
      ],
      "text/plain": [
       "  year speaker        org                                  \n",
       "1 2012 Matt Waite     University of Nebraska-Lincoln       \n",
       "2 2013 Matt Waite     University of Nebraska-Lincoln       \n",
       "3 2014 Tyler Fisher   Knight Lab                           \n",
       "4 2016 Dan Nguyen     Stanford University                  \n",
       "5 2016 Nicole Zhu     Knight Lab                           \n",
       "6 2016 Jonathan Stray Columbia University Journalism School\n",
       "7 2018 Jonathan Soma  Columbia University Journalism School\n",
       "8 2018 Kelly Calagna  Knight Lab                           "
      ]
     },
     "metadata": {},
     "output_type": "display_data"
    }
   ],
   "source": [
    "df %>% filter(year > 2010 & gave_talk == 1 & org %in% c('Columbia University Journalism School', \n",
    "                                                        'Knight Lab', 'Stanford University', \n",
    "                                                        'University of Nebraska-Lincoln')) %>% select(year, speaker, org)\n",
    "       "
   ]
  },
  {
   "cell_type": "markdown",
   "metadata": {},
   "source": [
    "Tyler Fisher (2014), Nicole Zhu (2016), and Kelly Calagna (2018) are the only students. Now let's take a look at Fisher's other talk(s):"
   ]
  },
  {
   "cell_type": "code",
   "execution_count": 7,
   "metadata": {},
   "outputs": [
    {
     "data": {
      "text/html": [
       "<table>\n",
       "<thead><tr><th scope=col>year</th><th scope=col>speaker</th><th scope=col>org</th><th scope=col>title</th></tr></thead>\n",
       "<tbody>\n",
       "\t<tr><td>2014                                          </td><td>Tyler Fisher                                  </td><td>Knight Lab                                    </td><td>How to Raise an Army                          </td></tr>\n",
       "\t<tr><td>2017                                          </td><td>Tyler Fisher                                  </td><td>NPR                                           </td><td>Subverting the story model in the age of Trump</td></tr>\n",
       "</tbody>\n",
       "</table>\n"
      ],
      "text/latex": [
       "\\begin{tabular}{r|llll}\n",
       " year & speaker & org & title\\\\\n",
       "\\hline\n",
       "\t 2014                                           & Tyler Fisher                                   & Knight Lab                                     & How to Raise an Army                          \\\\\n",
       "\t 2017                                           & Tyler Fisher                                   & NPR                                            & Subverting the story model in the age of Trump\\\\\n",
       "\\end{tabular}\n"
      ],
      "text/markdown": [
       "\n",
       "year | speaker | org | title | \n",
       "|---|---|\n",
       "| 2014                                           | Tyler Fisher                                   | Knight Lab                                     | How to Raise an Army                           | \n",
       "| 2017                                           | Tyler Fisher                                   | NPR                                            | Subverting the story model in the age of Trump | \n",
       "\n",
       "\n"
      ],
      "text/plain": [
       "  year speaker      org        title                                         \n",
       "1 2014 Tyler Fisher Knight Lab How to Raise an Army                          \n",
       "2 2017 Tyler Fisher NPR        Subverting the story model in the age of Trump"
      ]
     },
     "metadata": {},
     "output_type": "display_data"
    }
   ],
   "source": [
    "df %>% filter(speaker == 'Tyler Fisher') %>% select(year, speaker, org, title)"
   ]
  },
  {
   "cell_type": "markdown",
   "metadata": {},
   "source": [
    "### \" ... since Tyler Fisher’s 2014 talk, there has been a Knight Lab student proposal every year except 2017 (and a Knight Lab speaker in 2016 and 2018).\""
   ]
  },
  {
   "cell_type": "markdown",
   "metadata": {},
   "source": [
    "Here are all the lightning talk pitches from Knight Lab:"
   ]
  },
  {
   "cell_type": "code",
   "execution_count": 8,
   "metadata": {},
   "outputs": [
    {
     "data": {
      "text/html": [
       "<table>\n",
       "<thead><tr><th scope=col>year</th><th scope=col>speaker</th><th scope=col>title</th><th scope=col>gave_talk</th></tr></thead>\n",
       "<tbody>\n",
       "\t<tr><td>2014                                                                                            </td><td>Tyler Fisher                                                                                    </td><td>How to Raise an Army                                                                            </td><td>1                                                                                               </td></tr>\n",
       "\t<tr><td>2015                                                                                            </td><td>Nicole Zhu                                                                                      </td><td>How to read 52 books in 52 weeks                                                                </td><td>0                                                                                               </td></tr>\n",
       "\t<tr><td>2015                                                                                            </td><td>Alex Duner                                                                                      </td><td>Saving Journalism With Web Components                                                           </td><td>0                                                                                               </td></tr>\n",
       "\t<tr><td>2015                                                                                            </td><td>Nicole Zhu                                                                                      </td><td>Ride Wit Me: Channeling Nelly in Student Newsrooms                                              </td><td>0                                                                                               </td></tr>\n",
       "\t<tr><td>2016                                                                                            </td><td>Nicole Zhu                                                                                      </td><td>How to read 52 books in 52 weeks                                                                </td><td>1                                                                                               </td></tr>\n",
       "\t<tr><td>2016                                                                                            </td><td>Nicole Zhu                                                                                      </td><td>You’re doing it wrong: the do’s and don'ts of social media from Tumblr teens and Snapchat queens</td><td>0                                                                                               </td></tr>\n",
       "\t<tr><td>2016                                                                                            </td><td>Aditi Bhandari                                                                                  </td><td>7 things I learnt about storytelling ... from Disney movies                                     </td><td>0                                                                                               </td></tr>\n",
       "\t<tr><td>2016                                                                                            </td><td>Nicole Zhu                                                                                      </td><td>5 ways to use GitHub in student newsrooms                                                       </td><td>0                                                                                               </td></tr>\n",
       "\t<tr><td>2018                                                                                            </td><td>Kelly Calagna                                                                                   </td><td>Sensor Journalism in the Age of Trump’s EPA                                                     </td><td>1                                                                                               </td></tr>\n",
       "\t<tr><td>2018                                                                                            </td><td>Maxine Whitely                                                                                  </td><td>100 Hello Worlds                                                                                </td><td>0                                                                                               </td></tr>\n",
       "</tbody>\n",
       "</table>\n"
      ],
      "text/latex": [
       "\\begin{tabular}{r|llll}\n",
       " year & speaker & title & gave\\_talk\\\\\n",
       "\\hline\n",
       "\t 2014                                                                                             & Tyler Fisher                                                                                     & How to Raise an Army                                                                             & 1                                                                                               \\\\\n",
       "\t 2015                                                                                             & Nicole Zhu                                                                                       & How to read 52 books in 52 weeks                                                                 & 0                                                                                               \\\\\n",
       "\t 2015                                                                                             & Alex Duner                                                                                       & Saving Journalism With Web Components                                                            & 0                                                                                               \\\\\n",
       "\t 2015                                                                                             & Nicole Zhu                                                                                       & Ride Wit Me: Channeling Nelly in Student Newsrooms                                               & 0                                                                                               \\\\\n",
       "\t 2016                                                                                             & Nicole Zhu                                                                                       & How to read 52 books in 52 weeks                                                                 & 1                                                                                               \\\\\n",
       "\t 2016                                                                                             & Nicole Zhu                                                                                       & You’re doing it wrong: the do’s and don'ts of social media from Tumblr teens and Snapchat queens & 0                                                                                               \\\\\n",
       "\t 2016                                                                                             & Aditi Bhandari                                                                                   & 7 things I learnt about storytelling ... from Disney movies                                      & 0                                                                                               \\\\\n",
       "\t 2016                                                                                             & Nicole Zhu                                                                                       & 5 ways to use GitHub in student newsrooms                                                        & 0                                                                                               \\\\\n",
       "\t 2018                                                                                             & Kelly Calagna                                                                                    & Sensor Journalism in the Age of Trump’s EPA                                                      & 1                                                                                               \\\\\n",
       "\t 2018                                                                                             & Maxine Whitely                                                                                   & 100 Hello Worlds                                                                                 & 0                                                                                               \\\\\n",
       "\\end{tabular}\n"
      ],
      "text/markdown": [
       "\n",
       "year | speaker | title | gave_talk | \n",
       "|---|---|---|---|---|---|---|---|---|---|\n",
       "| 2014                                                                                             | Tyler Fisher                                                                                     | How to Raise an Army                                                                             | 1                                                                                                | \n",
       "| 2015                                                                                             | Nicole Zhu                                                                                       | How to read 52 books in 52 weeks                                                                 | 0                                                                                                | \n",
       "| 2015                                                                                             | Alex Duner                                                                                       | Saving Journalism With Web Components                                                            | 0                                                                                                | \n",
       "| 2015                                                                                             | Nicole Zhu                                                                                       | Ride Wit Me: Channeling Nelly in Student Newsrooms                                               | 0                                                                                                | \n",
       "| 2016                                                                                             | Nicole Zhu                                                                                       | How to read 52 books in 52 weeks                                                                 | 1                                                                                                | \n",
       "| 2016                                                                                             | Nicole Zhu                                                                                       | You’re doing it wrong: the do’s and don'ts of social media from Tumblr teens and Snapchat queens | 0                                                                                                | \n",
       "| 2016                                                                                             | Aditi Bhandari                                                                                   | 7 things I learnt about storytelling ... from Disney movies                                      | 0                                                                                                | \n",
       "| 2016                                                                                             | Nicole Zhu                                                                                       | 5 ways to use GitHub in student newsrooms                                                        | 0                                                                                                | \n",
       "| 2018                                                                                             | Kelly Calagna                                                                                    | Sensor Journalism in the Age of Trump’s EPA                                                      | 1                                                                                                | \n",
       "| 2018                                                                                             | Maxine Whitely                                                                                   | 100 Hello Worlds                                                                                 | 0                                                                                                | \n",
       "\n",
       "\n"
      ],
      "text/plain": [
       "   year speaker       \n",
       "1  2014 Tyler Fisher  \n",
       "2  2015 Nicole Zhu    \n",
       "3  2015 Alex Duner    \n",
       "4  2015 Nicole Zhu    \n",
       "5  2016 Nicole Zhu    \n",
       "6  2016 Nicole Zhu    \n",
       "7  2016 Aditi Bhandari\n",
       "8  2016 Nicole Zhu    \n",
       "9  2018 Kelly Calagna \n",
       "10 2018 Maxine Whitely\n",
       "   title                                                                                           \n",
       "1  How to Raise an Army                                                                            \n",
       "2  How to read 52 books in 52 weeks                                                                \n",
       "3  Saving Journalism With Web Components                                                           \n",
       "4  Ride Wit Me: Channeling Nelly in Student Newsrooms                                              \n",
       "5  How to read 52 books in 52 weeks                                                                \n",
       "6  You’re doing it wrong: the do’s and don'ts of social media from Tumblr teens and Snapchat queens\n",
       "7  7 things I learnt about storytelling ... from Disney movies                                     \n",
       "8  5 ways to use GitHub in student newsrooms                                                       \n",
       "9  Sensor Journalism in the Age of Trump’s EPA                                                     \n",
       "10 100 Hello Worlds                                                                                \n",
       "   gave_talk\n",
       "1  1        \n",
       "2  0        \n",
       "3  0        \n",
       "4  0        \n",
       "5  1        \n",
       "6  0        \n",
       "7  0        \n",
       "8  0        \n",
       "9  1        \n",
       "10 0        "
      ]
     },
     "metadata": {},
     "output_type": "display_data"
    }
   ],
   "source": [
    "df %>% filter(org == 'Knight Lab') %>% select(year, speaker, title, gave_talk)"
   ]
  },
  {
   "cell_type": "markdown",
   "metadata": {},
   "source": [
    "## First-timers at the NICAR lightning talks"
   ]
  },
  {
   "cell_type": "markdown",
   "metadata": {},
   "source": [
    "### \"In 2014, just 22 percent of the top 10 talks were from people who had never proposed before; in 2018, it was 62 percent (for people who had never spoken, the figures are 33 and 85 percent, respectively).\""
   ]
  },
  {
   "cell_type": "markdown",
   "metadata": {},
   "source": [
    "Right now the data has one row per talk. The person listed in the `speaker` column is the name under which the talk was proposed, and the person listed in the `copresenter` column is the name of the person who co-presented (if any). For instance, in 2018 Alexandra Kanik proposed a talk called \"Hope for the best, prepare for the worst\" which was co-presented with Kate Howard. Let's create a dataframe of with a column representing all speakers (solo and copresenters): "
   ]
  },
  {
   "cell_type": "code",
   "execution_count": 9,
   "metadata": {},
   "outputs": [],
   "source": [
    "df.speakers <- df %>% select(year, speaker, top_10, gave_talk, copresented)\n",
    "df.copresenters <- df %>% \n",
    "                   filter(copresented == 1) %>% \n",
    "                   select(year, speaker = copresenter, top_10, gave_talk, copresented)\n",
    "df.all <- rbind(df.speakers, df.copresenters)"
   ]
  },
  {
   "cell_type": "markdown",
   "metadata": {},
   "source": [
    "Now let's create an (unbalanced) panel dataset of speaker-year, so that if someone proposed more than one talks in a year they appear just once (if this is the case, and one of the talks was actually presented, then we'll keep that one and drop the others)."
   ]
  },
  {
   "cell_type": "code",
   "execution_count": 10,
   "metadata": {},
   "outputs": [],
   "source": [
    "df.all.panel <- df.all %>% arrange(speaker, year, -gave_talk) %>% \n",
    "                           group_by(speaker, year) %>% \n",
    "                           filter(row_number() == 1) "
   ]
  },
  {
   "cell_type": "markdown",
   "metadata": {},
   "source": [
    "Let's create a variable, `gave_talk_before`, which = 1 if the person has ever given lightning talk before. We'll also create `gap`, or the number of years since the person last gave a talk. We'll use these to create a few other variables: `gave_talk_lastyr`, which = 1 if the person gave a lightning talk the previous year; `proposed_talk_before`, which = 1 if the person proposed a talk in the past (whether or not they gave it), and `proposed_talk_lastyr`, which = 1 if the person proposed a talk the previous year (whether or not they gave it)"
   ]
  },
  {
   "cell_type": "code",
   "execution_count": 11,
   "metadata": {},
   "outputs": [],
   "source": [
    "df.all.panel <- df.all.panel %>% group_by(speaker) %>%\n",
    "                                 mutate(gave_talk_before = lag(gave_talk), \n",
    "                                        gap = year - lag(year), \n",
    "                                        gave_talk_lastyr = ifelse(gap == 1 & gave_talk_before == 1, 1, 0), \n",
    "                                        proposed_talk_before = ifelse(is.na(gave_talk_before) == FALSE, 1, 0), \n",
    "                                        proposed_talk_lastyr = ifelse(gap == 1 & proposed_talk_before == 1, 1, 0))\n",
    "\n",
    "df.all.panel$proposed_talk_before <- ifelse(df.all.panel$year == 2010, NA, df.all.panel$proposed_talk_before)\n",
    "\n",
    "df.all.panel$gave_talk_before <- ifelse(is.na(df.all.panel$gave_talk_before) == TRUE & \n",
    "                                        df.all.panel$year != 2010, 0, df.all.panel$gave_talk_before)\n",
    "\n",
    "df.all.panel$gave_talk_lastyr <- ifelse(is.na(df.all.panel$gave_talk_lastyr) == TRUE & \n",
    "                                        df.all.panel$year != 2010, 0, df.all.panel$gave_talk_lastyr)"
   ]
  },
  {
   "cell_type": "markdown",
   "metadata": {},
   "source": [
    "Now let's see how many of the lightning talks voted into the top 10 were pitched by **people who had never given a talk before**. To do this we will create a variable, `never_spoken_before`, which = 1 if the person has never given a lightning talk before (the opposite of the `gave_talk_before` variable)."
   ]
  },
  {
   "cell_type": "code",
   "execution_count": 12,
   "metadata": {},
   "outputs": [
    {
     "data": {
      "text/html": [
       "<table>\n",
       "<thead><tr><th scope=col>year</th><th scope=col>never_spoken_before</th><th scope=col>n</th><th scope=col>prop</th></tr></thead>\n",
       "<tbody>\n",
       "\t<tr><td>2011     </td><td>1        </td><td> 7       </td><td>0.7000000</td></tr>\n",
       "\t<tr><td>2012     </td><td>1        </td><td> 8       </td><td>0.6666667</td></tr>\n",
       "\t<tr><td>2013     </td><td>1        </td><td> 4       </td><td>0.3636364</td></tr>\n",
       "\t<tr><td>2014     </td><td>1        </td><td> 3       </td><td>0.3333333</td></tr>\n",
       "\t<tr><td>2015     </td><td>1        </td><td> 7       </td><td>0.7000000</td></tr>\n",
       "\t<tr><td>2016     </td><td>1        </td><td> 8       </td><td>0.8000000</td></tr>\n",
       "\t<tr><td>2017     </td><td>1        </td><td> 7       </td><td>0.7000000</td></tr>\n",
       "\t<tr><td>2018     </td><td>1        </td><td>11       </td><td>0.8461538</td></tr>\n",
       "</tbody>\n",
       "</table>\n"
      ],
      "text/latex": [
       "\\begin{tabular}{r|llll}\n",
       " year & never\\_spoken\\_before & n & prop\\\\\n",
       "\\hline\n",
       "\t 2011      & 1         &  7        & 0.7000000\\\\\n",
       "\t 2012      & 1         &  8        & 0.6666667\\\\\n",
       "\t 2013      & 1         &  4        & 0.3636364\\\\\n",
       "\t 2014      & 1         &  3        & 0.3333333\\\\\n",
       "\t 2015      & 1         &  7        & 0.7000000\\\\\n",
       "\t 2016      & 1         &  8        & 0.8000000\\\\\n",
       "\t 2017      & 1         &  7        & 0.7000000\\\\\n",
       "\t 2018      & 1         & 11        & 0.8461538\\\\\n",
       "\\end{tabular}\n"
      ],
      "text/markdown": [
       "\n",
       "year | never_spoken_before | n | prop | \n",
       "|---|---|---|---|---|---|---|---|\n",
       "| 2011      | 1         |  7        | 0.7000000 | \n",
       "| 2012      | 1         |  8        | 0.6666667 | \n",
       "| 2013      | 1         |  4        | 0.3636364 | \n",
       "| 2014      | 1         |  3        | 0.3333333 | \n",
       "| 2015      | 1         |  7        | 0.7000000 | \n",
       "| 2016      | 1         |  8        | 0.8000000 | \n",
       "| 2017      | 1         |  7        | 0.7000000 | \n",
       "| 2018      | 1         | 11        | 0.8461538 | \n",
       "\n",
       "\n"
      ],
      "text/plain": [
       "  year never_spoken_before n  prop     \n",
       "1 2011 1                    7 0.7000000\n",
       "2 2012 1                    8 0.6666667\n",
       "3 2013 1                    4 0.3636364\n",
       "4 2014 1                    3 0.3333333\n",
       "5 2015 1                    7 0.7000000\n",
       "6 2016 1                    8 0.8000000\n",
       "7 2017 1                    7 0.7000000\n",
       "8 2018 1                   11 0.8461538"
      ]
     },
     "metadata": {},
     "output_type": "display_data"
    }
   ],
   "source": [
    "df.all.panel$never_spoken_before <- ifelse(df.all.panel$gave_talk_before == 0, 1, 0)\n",
    "\n",
    "never.spoken.top <- df.all.panel %>% group_by(year, never_spoken_before) %>% \n",
    "                                     filter(top_10 == 1) %>% \n",
    "                                     summarise(n = n()) %>% \n",
    "                                     mutate(prop = n/sum(n)) %>% filter(never_spoken_before == 1)\n",
    "never.spoken.top"
   ]
  },
  {
   "cell_type": "markdown",
   "metadata": {},
   "source": [
    "For a more restrictive definition of \"first-timer\", we can also take a look at how many of the lightning talks voted into the top 10 were pitched by **people who had never pitched a talk before**. To do this we will create a variable, `never_proposed_before`, which = 1 if the person has never pitched a lightning talk before (the opposite of the `proposed_talk_before` variable)."
   ]
  },
  {
   "cell_type": "code",
   "execution_count": 13,
   "metadata": {},
   "outputs": [
    {
     "data": {
      "text/html": [
       "<table>\n",
       "<thead><tr><th scope=col>year</th><th scope=col>never_proposed_before</th><th scope=col>n</th><th scope=col>prop</th></tr></thead>\n",
       "<tbody>\n",
       "\t<tr><td>2011     </td><td>1        </td><td>6        </td><td>0.6000000</td></tr>\n",
       "\t<tr><td>2012     </td><td>1        </td><td>8        </td><td>0.6666667</td></tr>\n",
       "\t<tr><td>2013     </td><td>1        </td><td>4        </td><td>0.3636364</td></tr>\n",
       "\t<tr><td>2014     </td><td>1        </td><td>2        </td><td>0.2222222</td></tr>\n",
       "\t<tr><td>2015     </td><td>1        </td><td>5        </td><td>0.5000000</td></tr>\n",
       "\t<tr><td>2016     </td><td>1        </td><td>5        </td><td>0.5000000</td></tr>\n",
       "\t<tr><td>2017     </td><td>1        </td><td>3        </td><td>0.3000000</td></tr>\n",
       "\t<tr><td>2018     </td><td>1        </td><td>8        </td><td>0.6153846</td></tr>\n",
       "</tbody>\n",
       "</table>\n"
      ],
      "text/latex": [
       "\\begin{tabular}{r|llll}\n",
       " year & never\\_proposed\\_before & n & prop\\\\\n",
       "\\hline\n",
       "\t 2011      & 1         & 6         & 0.6000000\\\\\n",
       "\t 2012      & 1         & 8         & 0.6666667\\\\\n",
       "\t 2013      & 1         & 4         & 0.3636364\\\\\n",
       "\t 2014      & 1         & 2         & 0.2222222\\\\\n",
       "\t 2015      & 1         & 5         & 0.5000000\\\\\n",
       "\t 2016      & 1         & 5         & 0.5000000\\\\\n",
       "\t 2017      & 1         & 3         & 0.3000000\\\\\n",
       "\t 2018      & 1         & 8         & 0.6153846\\\\\n",
       "\\end{tabular}\n"
      ],
      "text/markdown": [
       "\n",
       "year | never_proposed_before | n | prop | \n",
       "|---|---|---|---|---|---|---|---|\n",
       "| 2011      | 1         | 6         | 0.6000000 | \n",
       "| 2012      | 1         | 8         | 0.6666667 | \n",
       "| 2013      | 1         | 4         | 0.3636364 | \n",
       "| 2014      | 1         | 2         | 0.2222222 | \n",
       "| 2015      | 1         | 5         | 0.5000000 | \n",
       "| 2016      | 1         | 5         | 0.5000000 | \n",
       "| 2017      | 1         | 3         | 0.3000000 | \n",
       "| 2018      | 1         | 8         | 0.6153846 | \n",
       "\n",
       "\n"
      ],
      "text/plain": [
       "  year never_proposed_before n prop     \n",
       "1 2011 1                     6 0.6000000\n",
       "2 2012 1                     8 0.6666667\n",
       "3 2013 1                     4 0.3636364\n",
       "4 2014 1                     2 0.2222222\n",
       "5 2015 1                     5 0.5000000\n",
       "6 2016 1                     5 0.5000000\n",
       "7 2017 1                     3 0.3000000\n",
       "8 2018 1                     8 0.6153846"
      ]
     },
     "metadata": {},
     "output_type": "display_data"
    }
   ],
   "source": [
    "df.all.panel$never_proposed_before <- ifelse(df.all.panel$proposed_talk_before == 0, 1, 0)\n",
    "\n",
    "never.proposed.top <- df.all.panel %>% group_by(year, never_proposed_before) %>% \n",
    "                                       filter(top_10 == 1) %>% \n",
    "                                       summarise(n = n()) %>% \n",
    "                                       mutate(prop = n/sum(n)) %>% filter(never_proposed_before == 1)\n",
    "never.proposed.top"
   ]
  },
  {
   "cell_type": "code",
   "execution_count": 14,
   "metadata": {},
   "outputs": [
    {
     "name": "stdout",
     "output_type": "stream",
     "text": [
      "[1] \"In 2014, 22 percent of the top 10 talks were from people who had never proposed before.\"\n"
     ]
    }
   ],
   "source": [
    "print(paste(\"In 2014,\", round(never.proposed.top[never.proposed.top$year == 2014, ]$prop * 100), \n",
    "             \"percent of the top 10 talks were from people who had never proposed before.\"))"
   ]
  },
  {
   "cell_type": "code",
   "execution_count": 15,
   "metadata": {},
   "outputs": [
    {
     "name": "stdout",
     "output_type": "stream",
     "text": [
      "[1] \"In 2018, 62 percent of the top 10 talks were from people who had never proposed before.\"\n"
     ]
    }
   ],
   "source": [
    "print(paste(\"In 2018,\", round(never.proposed.top[never.proposed.top$year == 2018, ]$prop * 100), \n",
    "             \"percent of the top 10 talks were from people who had never proposed before.\"))"
   ]
  },
  {
   "cell_type": "code",
   "execution_count": 16,
   "metadata": {},
   "outputs": [
    {
     "name": "stdout",
     "output_type": "stream",
     "text": [
      "[1] \"In 2014, 33 percent of the top 10 talks were from people who had never spoken before.\"\n"
     ]
    }
   ],
   "source": [
    "print(paste(\"In 2014,\", round(never.spoken.top[never.spoken.top$year == 2014, ]$prop * 100), \n",
    "             \"percent of the top 10 talks were from people who had never spoken before.\"))"
   ]
  },
  {
   "cell_type": "code",
   "execution_count": 17,
   "metadata": {},
   "outputs": [
    {
     "name": "stdout",
     "output_type": "stream",
     "text": [
      "[1] \"In 2018, 85 percent of the top 10 talks were from people who had never spoken before.\"\n"
     ]
    }
   ],
   "source": [
    "print(paste(\"In 2018,\", round(never.spoken.top[never.spoken.top$year == 2018, ]$prop * 100), \n",
    "             \"percent of the top 10 talks were from people who had never spoken before.\"))"
   ]
  },
  {
   "cell_type": "markdown",
   "metadata": {},
   "source": [
    "### First-timers graphs"
   ]
  },
  {
   "cell_type": "markdown",
   "metadata": {},
   "source": [
    "Let's join the `never.spoken.top` and `never.proposed.top` dataframes together and make a couple of graphs."
   ]
  },
  {
   "cell_type": "code",
   "execution_count": 18,
   "metadata": {},
   "outputs": [],
   "source": [
    "first.timers.top <- never.spoken.top %>% full_join(never.proposed.top, by = 'year', suffix = c('_neverspoken', '_neverproposed'))"
   ]
  },
  {
   "cell_type": "code",
   "execution_count": 19,
   "metadata": {},
   "outputs": [
    {
     "data": {
      "image/png": "[encoded data removed]",
      "text/plain": [
       "plot without title"
      ]
     },
     "metadata": {},
     "output_type": "display_data"
    },
    {
     "data": {
      "image/png": "[encoded data removed]",
      "text/plain": [
       "plot without title"
      ]
     },
     "metadata": {},
     "output_type": "display_data"
    }
   ],
   "source": [
    "options(repr.plot.width = 4, repr.plot.height = 2)\n",
    "\n",
    "pre.2015 <- ggplot() + \n",
    "  geom_line(aes(x = year, y = prop_neverspoken), data = first.timers.top %>% filter(year < 2015), color = '#2ca25f', size = 1) +\n",
    "  geom_line(aes(x = year, y = prop_neverspoken), data = first.timers.top %>% filter(year >= 2014), color = 'gray88', size = 1) +\n",
    "  geom_line(aes(x = year, y = prop_neverproposed), data = first.timers.top %>% filter(year < 2015), color = '#00441b', size = 1) +\n",
    "  geom_point(aes(x = year, y = prop_neverspoken), data = first.timers.top %>% filter(year >= 2015), color = 'gray88', size = 2) +\n",
    "  geom_line(aes(x = year, y = prop_neverproposed), data = first.timers.top %>% filter(year >= 2014), color = 'gray88', size = 1) +\n",
    "  geom_point(aes(x = year, y = prop_neverproposed), data = first.timers.top %>% filter(year >= 2015), color = 'gray88', size = 2) +\n",
    "  geom_point(aes(x = year, y = prop_neverspoken), data = first.timers.top %>% filter(year < 2015), color = '#2ca25f', size = 2) +\n",
    "  geom_point(aes(x = year, y = prop_neverproposed), data = first.timers.top %>% filter(year < 2015), color = '#00441b', size = 2) +\n",
    "  scale_x_continuous(limits = c(2011, 2018), breaks = seq(2011, 2018, 1), \n",
    "                     labels = c(\"2011\", \"'12\", \"'13\", \"'14\", \"'15\", \"'16\", \"'17\", \"'18\")) +\n",
    "  scale_y_continuous(limits = c(0, 1), \n",
    "                     labels = c('0', '25', '50', '75', '100%')) +\n",
    "  theme_minimal() +\n",
    "  theme(axis.text = element_text(size = 12), panel.grid.minor = element_blank(),\n",
    "        panel.grid.major = element_line(colour=\"grey\",size = rel(0.15))) + geom_hline(colour = \"gray78\", \n",
    "                                                                                      yintercept = 0) +\n",
    "  labs(x = '', y = '')\n",
    "\n",
    "plot(pre.2015)\n",
    "\n",
    "post.2015 <- ggplot() + \n",
    "  geom_line(aes(x = year, y = prop_neverspoken), data = first.timers.top %>% filter(year < 2015), color = 'gray88', size = 1) +\n",
    "  geom_line(aes(x = year, y = prop_neverspoken), data = first.timers.top %>% filter(year >= 2014), color = '#2ca25f', size = 1) +\n",
    "  geom_line(aes(x = year, y = prop_neverproposed), data = first.timers.top %>% filter(year < 2015), color = 'gray88', size = 1) +\n",
    "  geom_line(aes(x = year, y = prop_neverproposed), data = first.timers.top %>% filter(year >= 2014), color = '#00441b', size = 1) +\n",
    "  geom_point(aes(x = year, y = prop_neverspoken), data = first.timers.top %>% filter(year < 2015), color = 'gray88', size = 2) +\n",
    "  geom_point(aes(x = year, y = prop_neverproposed), data = first.timers.top %>% filter(year < 2015), color = 'gray88', size = 2) +\n",
    "  geom_point(aes(x = year, y = prop_neverspoken), data = first.timers.top %>% filter(year >= 2014), color = '#2ca25f', size = 2) +  \n",
    "  geom_point(aes(x = year, y = prop_neverproposed), data = first.timers.top %>% filter(year >= 2014), color = '#00441b', size = 2) +\n",
    "  \n",
    "  scale_x_continuous(limits = c(2011, 2018), breaks = seq(2011, 2018, 1), \n",
    "                     labels = c(\"2011\", \"'12\", \"'13\", \"'14\", \"'15\", \"'16\", \"'17\", \"'18\")) +\n",
    "  scale_y_continuous(limits = c(0, 1), \n",
    "                     labels = c('0', '25', '50', '75', '100%')) +\n",
    "  theme_minimal() +\n",
    "  theme(axis.text = element_text(size = 12), panel.grid.minor = element_blank(),\n",
    "        panel.grid.major = element_line(colour=\"grey\",size = rel(0.15))) + geom_hline(colour = \"gray78\", \n",
    "                                                                                      yintercept = 0) +\n",
    "  labs(x = '', y = '')\n",
    "\n",
    "plot(post.2015)\n",
    "\n",
    "# export to png\n",
    "ggsave('pre2015.png', pre.2015, width = 6, height = 4)\n",
    "ggsave('post2015.png', post.2015, width = 6, height = 4)"
   ]
  },
  {
   "cell_type": "markdown",
   "metadata": {},
   "source": [
    "## Frequent NICAR lightning talks speakers"
   ]
  },
  {
   "cell_type": "markdown",
   "metadata": {},
   "source": [
    "Let's create a dataframe, `df.frequency`, with a column `n` representing the number of times a speaker has "
   ]
  },
  {
   "cell_type": "code",
   "execution_count": 20,
   "metadata": {},
   "outputs": [],
   "source": [
    "df.frequency <- df.all %>% arrange(speaker, year) %>% \n",
    "                           group_by(speaker, year, gave_talk, copresented) %>% \n",
    "                           distinct() %>% ungroup() %>% \n",
    "                           group_by(speaker, gave_talk) %>% \n",
    "                           mutate(n = n()) %>% ungroup() %>% \n",
    "                           group_by(speaker) %>% \n",
    "                           mutate(lastyear = lag(year), diff = year - lastyear)"
   ]
  },
  {
   "cell_type": "code",
   "execution_count": 21,
   "metadata": {},
   "outputs": [
    {
     "data": {
      "text/html": [
       "<table>\n",
       "<thead><tr><th scope=col>year</th><th scope=col>speaker</th><th scope=col>top_10</th><th scope=col>gave_talk</th><th scope=col>copresented</th><th scope=col>n</th><th scope=col>lastyear</th><th scope=col>diff</th></tr></thead>\n",
       "<tbody>\n",
       "\t<tr><td>2014          </td><td>Aaron Williams</td><td>0             </td><td>0             </td><td>0             </td><td>1             </td><td>  NA          </td><td>NA            </td></tr>\n",
       "\t<tr><td>2015          </td><td>Abraham Epton </td><td>0             </td><td>0             </td><td>0             </td><td>1             </td><td>  NA          </td><td>NA            </td></tr>\n",
       "\t<tr><td>2016          </td><td>Adam Playford </td><td>1             </td><td>1             </td><td>0             </td><td>1             </td><td>  NA          </td><td>NA            </td></tr>\n",
       "\t<tr><td>2017          </td><td>Adam Playford </td><td>0             </td><td>0             </td><td>0             </td><td>1             </td><td>2016          </td><td> 1            </td></tr>\n",
       "\t<tr><td>2016          </td><td>Aditi Bhandari</td><td>0             </td><td>0             </td><td>0             </td><td>1             </td><td>  NA          </td><td>NA            </td></tr>\n",
       "\t<tr><td>2017          </td><td>Aditi Bhandari</td><td>1             </td><td>1             </td><td>0             </td><td>1             </td><td>2016          </td><td> 1            </td></tr>\n",
       "</tbody>\n",
       "</table>\n"
      ],
      "text/latex": [
       "\\begin{tabular}{r|llllllll}\n",
       " year & speaker & top\\_10 & gave\\_talk & copresented & n & lastyear & diff\\\\\n",
       "\\hline\n",
       "\t 2014           & Aaron Williams & 0              & 0              & 0              & 1              &   NA           & NA            \\\\\n",
       "\t 2015           & Abraham Epton  & 0              & 0              & 0              & 1              &   NA           & NA            \\\\\n",
       "\t 2016           & Adam Playford  & 1              & 1              & 0              & 1              &   NA           & NA            \\\\\n",
       "\t 2017           & Adam Playford  & 0              & 0              & 0              & 1              & 2016           &  1            \\\\\n",
       "\t 2016           & Aditi Bhandari & 0              & 0              & 0              & 1              &   NA           & NA            \\\\\n",
       "\t 2017           & Aditi Bhandari & 1              & 1              & 0              & 1              & 2016           &  1            \\\\\n",
       "\\end{tabular}\n"
      ],
      "text/markdown": [
       "\n",
       "year | speaker | top_10 | gave_talk | copresented | n | lastyear | diff | \n",
       "|---|---|---|---|---|---|\n",
       "| 2014           | Aaron Williams | 0              | 0              | 0              | 1              |   NA           | NA             | \n",
       "| 2015           | Abraham Epton  | 0              | 0              | 0              | 1              |   NA           | NA             | \n",
       "| 2016           | Adam Playford  | 1              | 1              | 0              | 1              |   NA           | NA             | \n",
       "| 2017           | Adam Playford  | 0              | 0              | 0              | 1              | 2016           |  1             | \n",
       "| 2016           | Aditi Bhandari | 0              | 0              | 0              | 1              |   NA           | NA             | \n",
       "| 2017           | Aditi Bhandari | 1              | 1              | 0              | 1              | 2016           |  1             | \n",
       "\n",
       "\n"
      ],
      "text/plain": [
       "  year speaker        top_10 gave_talk copresented n lastyear diff\n",
       "1 2014 Aaron Williams 0      0         0           1   NA     NA  \n",
       "2 2015 Abraham Epton  0      0         0           1   NA     NA  \n",
       "3 2016 Adam Playford  1      1         0           1   NA     NA  \n",
       "4 2017 Adam Playford  0      0         0           1 2016      1  \n",
       "5 2016 Aditi Bhandari 0      0         0           1   NA     NA  \n",
       "6 2017 Aditi Bhandari 1      1         0           1 2016      1  "
      ]
     },
     "metadata": {},
     "output_type": "display_data"
    }
   ],
   "source": [
    "df.frequency %>% head()"
   ]
  },
  {
   "cell_type": "markdown",
   "metadata": {},
   "source": [
    "## NICAR lightning talks demographics"
   ]
  },
  {
   "cell_type": "markdown",
   "metadata": {},
   "source": [
    "### Join demographic characterstics to the \"panel\" dataframe"
   ]
  },
  {
   "cell_type": "markdown",
   "metadata": {},
   "source": [
    "Note the demographic information does not include co-presenters."
   ]
  },
  {
   "cell_type": "code",
   "execution_count": 22,
   "metadata": {},
   "outputs": [
    {
     "name": "stderr",
     "output_type": "stream",
     "text": [
      "Joining, by = c(\"year\", \"speaker\")\n"
     ]
    }
   ],
   "source": [
    "df.demo <- df.all.panel %>% left_join(df %>% select(year, \n",
    "                                                    speaker, \n",
    "                                                    nonmale,\n",
    "                                                    location, org, \n",
    "                                                    international) %>% distinct())\n",
    "\n",
    "df.demo$exclude <- ifelse(df.demo$copresented == 1 & is.na(df.demo$location) == TRUE, 1, 0)\n",
    "df.demo <- df.demo %>% filter(exclude == 0)"
   ]
  },
  {
   "cell_type": "markdown",
   "metadata": {},
   "source": [
    "### \"Females and non-binary individuals pitched 23 percent of the talks in 2014; in 2016, this figure has more than doubled, to 47 percent in 2018. In 2017, nearly half of the talks voted into the top 10 came from non-male speakers––an all-time high.\""
   ]
  },
  {
   "cell_type": "markdown",
   "metadata": {},
   "source": [
    "Let's create a dataframe, `nonmale.all`, which has all the talks (number and proportion) by non-male speakers (proposed and top 10) and another dataframe, `nonmale.top`, which has all the talks by non-male speakers voted into the top 10."
   ]
  },
  {
   "cell_type": "code",
   "execution_count": 23,
   "metadata": {},
   "outputs": [],
   "source": [
    "nonmale.all <- df.demo %>% group_by(year, nonmale) %>% summarise(n = n()) %>% \n",
    "  ungroup() %>% group_by(year) %>%\n",
    "  mutate(prop = n/sum(n)) %>% filter(nonmale == 1)\n",
    "\n",
    "nonmale.top <- df.demo %>% group_by(year, nonmale, top_10) %>% summarise(n = n()) %>% \n",
    "  ungroup() %>% group_by(year, top_10) %>%\n",
    "  mutate(prop = n/sum(n)) %>% filter(top_10 == 1 & nonmale == 1)"
   ]
  },
  {
   "cell_type": "markdown",
   "metadata": {},
   "source": [
    "We'll join these two together for our graph."
   ]
  },
  {
   "cell_type": "code",
   "execution_count": 24,
   "metadata": {},
   "outputs": [],
   "source": [
    "nonmale.plot <- nonmale.all %>% full_join(nonmale.top, by = 'year', suffix = c('_all', '_top10'))"
   ]
  },
  {
   "cell_type": "code",
   "execution_count": 25,
   "metadata": {},
   "outputs": [
    {
     "data": {
      "text/html": [
       "<table>\n",
       "<thead><tr><th scope=col>year</th><th scope=col>nonmale_all</th><th scope=col>n_all</th><th scope=col>prop_all</th><th scope=col>nonmale_top10</th><th scope=col>top_10</th><th scope=col>n_top10</th><th scope=col>prop_top10</th></tr></thead>\n",
       "<tbody>\n",
       "\t<tr><td>2010      </td><td>1         </td><td> 4        </td><td>0.2352941 </td><td>1         </td><td>1         </td><td>3         </td><td>0.30000000</td></tr>\n",
       "\t<tr><td>2011      </td><td>1         </td><td> 4        </td><td>0.2666667 </td><td>1         </td><td>1         </td><td>1         </td><td>0.10000000</td></tr>\n",
       "\t<tr><td>2012      </td><td>1         </td><td> 3        </td><td>0.1000000 </td><td>1         </td><td>1         </td><td>1         </td><td>0.08333333</td></tr>\n",
       "\t<tr><td>2013      </td><td>1         </td><td> 4        </td><td>0.1333333 </td><td>1         </td><td>1         </td><td>2         </td><td>0.20000000</td></tr>\n",
       "\t<tr><td>2014      </td><td>1         </td><td> 8        </td><td>0.2285714 </td><td>1         </td><td>1         </td><td>3         </td><td>0.33333333</td></tr>\n",
       "\t<tr><td>2015      </td><td>1         </td><td>18        </td><td>0.4186047 </td><td>1         </td><td>1         </td><td>5         </td><td>0.50000000</td></tr>\n",
       "\t<tr><td>2016      </td><td>1         </td><td>14        </td><td>0.3333333 </td><td>1         </td><td>1         </td><td>4         </td><td>0.40000000</td></tr>\n",
       "\t<tr><td>2017      </td><td>1         </td><td>12        </td><td>0.4137931 </td><td>1         </td><td>1         </td><td>5         </td><td>0.50000000</td></tr>\n",
       "\t<tr><td>2018      </td><td>1         </td><td>15        </td><td>0.4687500 </td><td>1         </td><td>1         </td><td>4         </td><td>0.40000000</td></tr>\n",
       "</tbody>\n",
       "</table>\n"
      ],
      "text/latex": [
       "\\begin{tabular}{r|llllllll}\n",
       " year & nonmale\\_all & n\\_all & prop\\_all & nonmale\\_top10 & top\\_10 & n\\_top10 & prop\\_top10\\\\\n",
       "\\hline\n",
       "\t 2010       & 1          &  4         & 0.2352941  & 1          & 1          & 3          & 0.30000000\\\\\n",
       "\t 2011       & 1          &  4         & 0.2666667  & 1          & 1          & 1          & 0.10000000\\\\\n",
       "\t 2012       & 1          &  3         & 0.1000000  & 1          & 1          & 1          & 0.08333333\\\\\n",
       "\t 2013       & 1          &  4         & 0.1333333  & 1          & 1          & 2          & 0.20000000\\\\\n",
       "\t 2014       & 1          &  8         & 0.2285714  & 1          & 1          & 3          & 0.33333333\\\\\n",
       "\t 2015       & 1          & 18         & 0.4186047  & 1          & 1          & 5          & 0.50000000\\\\\n",
       "\t 2016       & 1          & 14         & 0.3333333  & 1          & 1          & 4          & 0.40000000\\\\\n",
       "\t 2017       & 1          & 12         & 0.4137931  & 1          & 1          & 5          & 0.50000000\\\\\n",
       "\t 2018       & 1          & 15         & 0.4687500  & 1          & 1          & 4          & 0.40000000\\\\\n",
       "\\end{tabular}\n"
      ],
      "text/markdown": [
       "\n",
       "year | nonmale_all | n_all | prop_all | nonmale_top10 | top_10 | n_top10 | prop_top10 | \n",
       "|---|---|---|---|---|---|---|---|---|\n",
       "| 2010       | 1          |  4         | 0.2352941  | 1          | 1          | 3          | 0.30000000 | \n",
       "| 2011       | 1          |  4         | 0.2666667  | 1          | 1          | 1          | 0.10000000 | \n",
       "| 2012       | 1          |  3         | 0.1000000  | 1          | 1          | 1          | 0.08333333 | \n",
       "| 2013       | 1          |  4         | 0.1333333  | 1          | 1          | 2          | 0.20000000 | \n",
       "| 2014       | 1          |  8         | 0.2285714  | 1          | 1          | 3          | 0.33333333 | \n",
       "| 2015       | 1          | 18         | 0.4186047  | 1          | 1          | 5          | 0.50000000 | \n",
       "| 2016       | 1          | 14         | 0.3333333  | 1          | 1          | 4          | 0.40000000 | \n",
       "| 2017       | 1          | 12         | 0.4137931  | 1          | 1          | 5          | 0.50000000 | \n",
       "| 2018       | 1          | 15         | 0.4687500  | 1          | 1          | 4          | 0.40000000 | \n",
       "\n",
       "\n"
      ],
      "text/plain": [
       "  year nonmale_all n_all prop_all  nonmale_top10 top_10 n_top10 prop_top10\n",
       "1 2010 1            4    0.2352941 1             1      3       0.30000000\n",
       "2 2011 1            4    0.2666667 1             1      1       0.10000000\n",
       "3 2012 1            3    0.1000000 1             1      1       0.08333333\n",
       "4 2013 1            4    0.1333333 1             1      2       0.20000000\n",
       "5 2014 1            8    0.2285714 1             1      3       0.33333333\n",
       "6 2015 1           18    0.4186047 1             1      5       0.50000000\n",
       "7 2016 1           14    0.3333333 1             1      4       0.40000000\n",
       "8 2017 1           12    0.4137931 1             1      5       0.50000000\n",
       "9 2018 1           15    0.4687500 1             1      4       0.40000000"
      ]
     },
     "metadata": {},
     "output_type": "display_data"
    }
   ],
   "source": [
    "nonmale.plot"
   ]
  },
  {
   "cell_type": "code",
   "execution_count": 26,
   "metadata": {},
   "outputs": [
    {
     "data": {},
     "metadata": {},
     "output_type": "display_data"
    },
    {
     "data": {
      "image/png": "[encoded data removed]",
      "text/plain": [
       "plot without title"
      ]
     },
     "metadata": {},
     "output_type": "display_data"
    }
   ],
   "source": [
    "options(repr.plot.width = 5, repr.plot.height = 3)\n",
    "\n",
    "ggplot(data = nonmale.plot) +\n",
    "  geom_segment(aes(x = year, xend = year, y = prop_all * 100, yend = prop_top10 * 100), color = 'gray77', lwd = 1) +\n",
    "  geom_point(aes(x = year, y = prop_all * 100), color = '#a77800', size = 2) + # Ravenclaw colors\n",
    "  geom_point(aes(x = year, y = prop_top10 * 100), color = '#002fa7', size = 2) +\n",
    "  scale_x_continuous(breaks = seq(2010, 2018, 1), labels = c('2010', \"'11\", \"'12\", \"'13\", \"'14\", \"'15\", \"'16\", \"'17\", \"'18\")) + labs(x = '', y = '') +\n",
    "  theme_minimal() +\n",
    "  scale_y_continuous(breaks = seq(0, 50, 10), limits = c(0, 50), \n",
    "                     labels = c('0', '10', '20', '30', '40', '50%')) +\n",
    "  theme(axis.text = element_text(size = 12), panel.grid.minor = element_blank(),\n",
    "        panel.grid.major = element_line(colour=\"grey\",size = rel(0.15))) + geom_hline(colour = \"gray78\", \n",
    "                                                                                      yintercept = 0) \n",
    "\n",
    "ggsave('nonmale.png', width = 6, height = 4)\n"
   ]
  },
  {
   "cell_type": "markdown",
   "metadata": {},
   "source": [
    "### \"Though there have been proposals from international speakers every year since 2012, only once, in 2017, has a non-U.S. speaker been voted into the top 10 (“How to collaborate when no one understands what you do” by the Guardian UK’s Data Projects Editor Caelainn Barr).\""
   ]
  },
  {
   "cell_type": "markdown",
   "metadata": {},
   "source": [
    "Let's take a look at how many non-U.S. people have proposed talks over the years. "
   ]
  },
  {
   "cell_type": "code",
   "execution_count": 27,
   "metadata": {},
   "outputs": [
    {
     "data": {
      "text/html": [
       "<table>\n",
       "<thead><tr><th scope=col>year</th><th scope=col>international</th><th scope=col>n</th><th scope=col>prop</th></tr></thead>\n",
       "<tbody>\n",
       "\t<tr><td>2012      </td><td>1         </td><td>2         </td><td>0.06666667</td></tr>\n",
       "\t<tr><td>2013      </td><td>1         </td><td>2         </td><td>0.06666667</td></tr>\n",
       "\t<tr><td>2014      </td><td>1         </td><td>1         </td><td>0.02857143</td></tr>\n",
       "\t<tr><td>2015      </td><td>1         </td><td>2         </td><td>0.04651163</td></tr>\n",
       "\t<tr><td>2016      </td><td>1         </td><td>8         </td><td>0.19047619</td></tr>\n",
       "\t<tr><td>2017      </td><td>1         </td><td>4         </td><td>0.13793103</td></tr>\n",
       "\t<tr><td>2018      </td><td>1         </td><td>2         </td><td>0.06250000</td></tr>\n",
       "</tbody>\n",
       "</table>\n"
      ],
      "text/latex": [
       "\\begin{tabular}{r|llll}\n",
       " year & international & n & prop\\\\\n",
       "\\hline\n",
       "\t 2012       & 1          & 2          & 0.06666667\\\\\n",
       "\t 2013       & 1          & 2          & 0.06666667\\\\\n",
       "\t 2014       & 1          & 1          & 0.02857143\\\\\n",
       "\t 2015       & 1          & 2          & 0.04651163\\\\\n",
       "\t 2016       & 1          & 8          & 0.19047619\\\\\n",
       "\t 2017       & 1          & 4          & 0.13793103\\\\\n",
       "\t 2018       & 1          & 2          & 0.06250000\\\\\n",
       "\\end{tabular}\n"
      ],
      "text/markdown": [
       "\n",
       "year | international | n | prop | \n",
       "|---|---|---|---|---|---|---|\n",
       "| 2012       | 1          | 2          | 0.06666667 | \n",
       "| 2013       | 1          | 2          | 0.06666667 | \n",
       "| 2014       | 1          | 1          | 0.02857143 | \n",
       "| 2015       | 1          | 2          | 0.04651163 | \n",
       "| 2016       | 1          | 8          | 0.19047619 | \n",
       "| 2017       | 1          | 4          | 0.13793103 | \n",
       "| 2018       | 1          | 2          | 0.06250000 | \n",
       "\n",
       "\n"
      ],
      "text/plain": [
       "  year international n prop      \n",
       "1 2012 1             2 0.06666667\n",
       "2 2013 1             2 0.06666667\n",
       "3 2014 1             1 0.02857143\n",
       "4 2015 1             2 0.04651163\n",
       "5 2016 1             8 0.19047619\n",
       "6 2017 1             4 0.13793103\n",
       "7 2018 1             2 0.06250000"
      ]
     },
     "metadata": {},
     "output_type": "display_data"
    }
   ],
   "source": [
    "df.demo %>% group_by(year, international) %>% \n",
    "            summarise(n = n()) %>% \n",
    "            mutate(prop = n/sum(n)) %>% \n",
    "            filter(international == 1)"
   ]
  },
  {
   "cell_type": "markdown",
   "metadata": {},
   "source": [
    "Now let's see which non-U.S. people have given talks."
   ]
  },
  {
   "cell_type": "code",
   "execution_count": 28,
   "metadata": {},
   "outputs": [
    {
     "data": {
      "text/html": [
       "<table>\n",
       "<thead><tr><th scope=col>year</th><th scope=col>international</th><th scope=col>gave_talk</th><th scope=col>n</th><th scope=col>prop</th></tr></thead>\n",
       "<tbody>\n",
       "\t<tr><td>2017</td><td>1   </td><td>1   </td><td>1   </td><td>0.1 </td></tr>\n",
       "</tbody>\n",
       "</table>\n"
      ],
      "text/latex": [
       "\\begin{tabular}{r|lllll}\n",
       " year & international & gave\\_talk & n & prop\\\\\n",
       "\\hline\n",
       "\t 2017 & 1    & 1    & 1    & 0.1 \\\\\n",
       "\\end{tabular}\n"
      ],
      "text/markdown": [
       "\n",
       "year | international | gave_talk | n | prop | \n",
       "|---|\n",
       "| 2017 | 1    | 1    | 1    | 0.1  | \n",
       "\n",
       "\n"
      ],
      "text/plain": [
       "  year international gave_talk n prop\n",
       "1 2017 1             1         1 0.1 "
      ]
     },
     "metadata": {},
     "output_type": "display_data"
    }
   ],
   "source": [
    "df.demo %>% group_by(year, international, gave_talk) %>% \n",
    "            summarise(n = n()) %>% \n",
    "            ungroup() %>% group_by(year, gave_talk) %>%\n",
    "            mutate(prop = n/sum(n)) %>% filter(gave_talk == 1 & international == 1)"
   ]
  },
  {
   "cell_type": "markdown",
   "metadata": {},
   "source": [
    "Who was it?"
   ]
  },
  {
   "cell_type": "code",
   "execution_count": 29,
   "metadata": {},
   "outputs": [
    {
     "data": {
      "text/html": [
       "<table>\n",
       "<thead><tr><th scope=col>year</th><th scope=col>title</th><th scope=col>speaker</th><th scope=col>copresented</th><th scope=col>copresenter</th><th scope=col>org</th><th scope=col>nonmale</th><th scope=col>location</th><th scope=col>international</th><th scope=col>description</th><th scope=col>votes</th><th scope=col>top_10</th><th scope=col>gave_talk</th></tr></thead>\n",
       "<tbody>\n",
       "\t<tr><td>2017                                                                                                                                                                                                                                                                                                                                                                                                    </td><td>How to collaborate when no one understands what you do                                                                                                                                                                                                                                                                                                                                                  </td><td>Caelainn Barr                                                                                                                                                                                                                                                                                                                                                                                           </td><td>0                                                                                                                                                                                                                                                                                                                                                                                                       </td><td>NA                                                                                                                                                                                                                                                                                                                                                                                                      </td><td>The Guardian                                                                                                                                                                                                                                                                                                                                                                                            </td><td>1                                                                                                                                                                                                                                                                                                                                                                                                       </td><td>London, UK                                                                                                                                                                                                                                                                                                                                                                                              </td><td>1                                                                                                                                                                                                                                                                                                                                                                                                       </td><td>Calling all weirdos! Are you the strange numbers reporter, the pretty chart-maker, or the person in the corner who gets excited when your code runs? One of the challenges of working with data and code in the newsroom is getting across what it is you actually do. I'll show you how aggressive collaboration has helped us work better with other editors, reporters and designers in our newsroom.</td><td>47                                                                                                                                                                                                                                                                                                                                                                                                      </td><td>1                                                                                                                                                                                                                                                                                                                                                                                                       </td><td>1                                                                                                                                                                                                                                                                                                                                                                                                       </td></tr>\n",
       "</tbody>\n",
       "</table>\n"
      ],
      "text/latex": [
       "\\begin{tabular}{r|lllllllllllll}\n",
       " year & title & speaker & copresented & copresenter & org & nonmale & location & international & description & votes & top\\_10 & gave\\_talk\\\\\n",
       "\\hline\n",
       "\t 2017                                                                                                                                                                                                                                                                                                                                                                                                     & How to collaborate when no one understands what you do                                                                                                                                                                                                                                                                                                                                                   & Caelainn Barr                                                                                                                                                                                                                                                                                                                                                                                            & 0                                                                                                                                                                                                                                                                                                                                                                                                        & NA                                                                                                                                                                                                                                                                                                                                                                                                       & The Guardian                                                                                                                                                                                                                                                                                                                                                                                             & 1                                                                                                                                                                                                                                                                                                                                                                                                        & London, UK                                                                                                                                                                                                                                                                                                                                                                                               & 1                                                                                                                                                                                                                                                                                                                                                                                                        & Calling all weirdos! Are you the strange numbers reporter, the pretty chart-maker, or the person in the corner who gets excited when your code runs? One of the challenges of working with data and code in the newsroom is getting across what it is you actually do. I'll show you how aggressive collaboration has helped us work better with other editors, reporters and designers in our newsroom. & 47                                                                                                                                                                                                                                                                                                                                                                                                       & 1                                                                                                                                                                                                                                                                                                                                                                                                        & 1                                                                                                                                                                                                                                                                                                                                                                                                       \\\\\n",
       "\\end{tabular}\n"
      ],
      "text/markdown": [
       "\n",
       "year | title | speaker | copresented | copresenter | org | nonmale | location | international | description | votes | top_10 | gave_talk | \n",
       "|---|\n",
       "| 2017                                                                                                                                                                                                                                                                                                                                                                                                     | How to collaborate when no one understands what you do                                                                                                                                                                                                                                                                                                                                                   | Caelainn Barr                                                                                                                                                                                                                                                                                                                                                                                            | 0                                                                                                                                                                                                                                                                                                                                                                                                        | NA                                                                                                                                                                                                                                                                                                                                                                                                       | The Guardian                                                                                                                                                                                                                                                                                                                                                                                             | 1                                                                                                                                                                                                                                                                                                                                                                                                        | London, UK                                                                                                                                                                                                                                                                                                                                                                                               | 1                                                                                                                                                                                                                                                                                                                                                                                                        | Calling all weirdos! Are you the strange numbers reporter, the pretty chart-maker, or the person in the corner who gets excited when your code runs? One of the challenges of working with data and code in the newsroom is getting across what it is you actually do. I'll show you how aggressive collaboration has helped us work better with other editors, reporters and designers in our newsroom. | 47                                                                                                                                                                                                                                                                                                                                                                                                       | 1                                                                                                                                                                                                                                                                                                                                                                                                        | 1                                                                                                                                                                                                                                                                                                                                                                                                        | \n",
       "\n",
       "\n"
      ],
      "text/plain": [
       "  year title                                                  speaker      \n",
       "1 2017 How to collaborate when no one understands what you do Caelainn Barr\n",
       "  copresented copresenter org          nonmale location   international\n",
       "1 0           NA          The Guardian 1       London, UK 1            \n",
       "  description                                                                                                                                                                                                                                                                                                                                                                                             \n",
       "1 Calling all weirdos! Are you the strange numbers reporter, the pretty chart-maker, or the person in the corner who gets excited when your code runs? One of the challenges of working with data and code in the newsroom is getting across what it is you actually do. I'll show you how aggressive collaboration has helped us work better with other editors, reporters and designers in our newsroom.\n",
       "  votes top_10 gave_talk\n",
       "1 47    1      1        "
      ]
     },
     "metadata": {},
     "output_type": "display_data"
    }
   ],
   "source": [
    "df %>% filter(international == 1 & gave_talk == 1)"
   ]
  },
  {
   "cell_type": "markdown",
   "metadata": {},
   "source": [
    "### \" ... most speakers, unsurprisingly, come from New York or D.C.\""
   ]
  },
  {
   "cell_type": "markdown",
   "metadata": {},
   "source": [
    "Let's the a look at the most common speaker locations"
   ]
  },
  {
   "cell_type": "code",
   "execution_count": 30,
   "metadata": {},
   "outputs": [
    {
     "data": {
      "text/html": [
       "<table>\n",
       "<thead><tr><th scope=col>location</th><th scope=col>n</th><th scope=col>prop</th><th scope=col>rank</th></tr></thead>\n",
       "<tbody>\n",
       "\t<tr><td>New York, NY      </td><td>66                </td><td>0.24175824        </td><td> 1                </td></tr>\n",
       "\t<tr><td>Washington, DC    </td><td>43                </td><td>0.15750916        </td><td> 2                </td></tr>\n",
       "\t<tr><td>Los Angeles, CA   </td><td>18                </td><td>0.06593407        </td><td> 3                </td></tr>\n",
       "\t<tr><td>San Francisco, CA </td><td>16                </td><td>0.05860806        </td><td> 4                </td></tr>\n",
       "\t<tr><td>Chicago, IL       </td><td>11                </td><td>0.04029304        </td><td> 5                </td></tr>\n",
       "\t<tr><td>Evanston, IL      </td><td> 8                </td><td>0.02930403        </td><td> 6                </td></tr>\n",
       "\t<tr><td>NA                </td><td> 8                </td><td>0.02930403        </td><td> 7                </td></tr>\n",
       "\t<tr><td>St. Petersburg, FL</td><td> 6                </td><td>0.02197802        </td><td> 8                </td></tr>\n",
       "\t<tr><td>McLean, VA        </td><td> 5                </td><td>0.01831502        </td><td> 9                </td></tr>\n",
       "\t<tr><td>Austin, TX        </td><td> 4                </td><td>0.01465201        </td><td>10                </td></tr>\n",
       "</tbody>\n",
       "</table>\n"
      ],
      "text/latex": [
       "\\begin{tabular}{r|llll}\n",
       " location & n & prop & rank\\\\\n",
       "\\hline\n",
       "\t New York, NY       & 66                 & 0.24175824         &  1                \\\\\n",
       "\t Washington, DC     & 43                 & 0.15750916         &  2                \\\\\n",
       "\t Los Angeles, CA    & 18                 & 0.06593407         &  3                \\\\\n",
       "\t San Francisco, CA  & 16                 & 0.05860806         &  4                \\\\\n",
       "\t Chicago, IL        & 11                 & 0.04029304         &  5                \\\\\n",
       "\t Evanston, IL       &  8                 & 0.02930403         &  6                \\\\\n",
       "\t NA                 &  8                 & 0.02930403         &  7                \\\\\n",
       "\t St. Petersburg, FL &  6                 & 0.02197802         &  8                \\\\\n",
       "\t McLean, VA         &  5                 & 0.01831502         &  9                \\\\\n",
       "\t Austin, TX         &  4                 & 0.01465201         & 10                \\\\\n",
       "\\end{tabular}\n"
      ],
      "text/markdown": [
       "\n",
       "location | n | prop | rank | \n",
       "|---|---|---|---|---|---|---|---|---|---|\n",
       "| New York, NY       | 66                 | 0.24175824         |  1                 | \n",
       "| Washington, DC     | 43                 | 0.15750916         |  2                 | \n",
       "| Los Angeles, CA    | 18                 | 0.06593407         |  3                 | \n",
       "| San Francisco, CA  | 16                 | 0.05860806         |  4                 | \n",
       "| Chicago, IL        | 11                 | 0.04029304         |  5                 | \n",
       "| Evanston, IL       |  8                 | 0.02930403         |  6                 | \n",
       "| NA                 |  8                 | 0.02930403         |  7                 | \n",
       "| St. Petersburg, FL |  6                 | 0.02197802         |  8                 | \n",
       "| McLean, VA         |  5                 | 0.01831502         |  9                 | \n",
       "| Austin, TX         |  4                 | 0.01465201         | 10                 | \n",
       "\n",
       "\n"
      ],
      "text/plain": [
       "   location           n  prop       rank\n",
       "1  New York, NY       66 0.24175824  1  \n",
       "2  Washington, DC     43 0.15750916  2  \n",
       "3  Los Angeles, CA    18 0.06593407  3  \n",
       "4  San Francisco, CA  16 0.05860806  4  \n",
       "5  Chicago, IL        11 0.04029304  5  \n",
       "6  Evanston, IL        8 0.02930403  6  \n",
       "7  NA                  8 0.02930403  7  \n",
       "8  St. Petersburg, FL  6 0.02197802  8  \n",
       "9  McLean, VA          5 0.01831502  9  \n",
       "10 Austin, TX          4 0.01465201 10  "
      ]
     },
     "metadata": {},
     "output_type": "display_data"
    }
   ],
   "source": [
    "df.demo %>% group_by(location) %>%\n",
    "  summarise(n = n()) %>% \n",
    "  mutate(prop = n/sum(n)) %>% arrange(-prop) %>% ungroup() %>% mutate(rank = row_number()) %>% \n",
    "  filter(rank <= 10)"
   ]
  },
  {
   "cell_type": "markdown",
   "metadata": {},
   "source": [
    "## The distribution of NICAR lightning talk votes over the years"
   ]
  },
  {
   "cell_type": "markdown",
   "metadata": {},
   "source": [
    "### \" ... the top 10 talks got 62 percent of the votes in 2010, and 50 percent of the votes in 2018.\""
   ]
  },
  {
   "cell_type": "markdown",
   "metadata": {},
   "source": [
    "To find out what percentage of the votes the top \"X\" talks got, let's first calculate the share of votes a given talk got in a given year (the variable `share`). We will do this by dividing each's talk's `votes` by the total votes in each year, `votes_total`. We can then use this to calculate `cumulative_votes`, the cumulative sum of the votes in each year when talks are ranked sequentially from 1 to 10 (`rank_seq`). (We also created the variable `top10_new` which is purely for plotting purposes when we shade the \"top 10\" talks in.)"
   ]
  },
  {
   "cell_type": "code",
   "execution_count": 31,
   "metadata": {},
   "outputs": [],
   "source": [
    "df <- df %>% group_by(year) %>% mutate(rank = rank(-votes, ties.method = 'min'), \n",
    "                                       rank_seq = rank(-votes, ties.method = 'first'), \n",
    "                                       top10_new = ifelse(rank_seq <= 10, 1, 0), \n",
    "                                       votes_total = sum(votes)) %>% arrange(rank_seq) %>% \n",
    "                                mutate(share = votes / votes_total, cumulative_votes = cumsum(share))      "
   ]
  },
  {
   "cell_type": "code",
   "execution_count": 32,
   "metadata": {},
   "outputs": [
    {
     "data": {
      "text/html": [
       "<table>\n",
       "<thead><tr><th scope=col>year</th><th scope=col>cumulative_votes</th></tr></thead>\n",
       "<tbody>\n",
       "\t<tr><td>2010     </td><td>0.6205357</td></tr>\n",
       "\t<tr><td>2011     </td><td>0.7772021</td></tr>\n",
       "\t<tr><td>2012     </td><td>0.5099819</td></tr>\n",
       "\t<tr><td>2013     </td><td>0.5058651</td></tr>\n",
       "\t<tr><td>2014     </td><td>0.5064516</td></tr>\n",
       "\t<tr><td>2015     </td><td>0.3765324</td></tr>\n",
       "\t<tr><td>2016     </td><td>0.3994801</td></tr>\n",
       "\t<tr><td>2017     </td><td>0.5761905</td></tr>\n",
       "\t<tr><td>2018     </td><td>0.4994893</td></tr>\n",
       "</tbody>\n",
       "</table>\n"
      ],
      "text/latex": [
       "\\begin{tabular}{r|ll}\n",
       " year & cumulative\\_votes\\\\\n",
       "\\hline\n",
       "\t 2010      & 0.6205357\\\\\n",
       "\t 2011      & 0.7772021\\\\\n",
       "\t 2012      & 0.5099819\\\\\n",
       "\t 2013      & 0.5058651\\\\\n",
       "\t 2014      & 0.5064516\\\\\n",
       "\t 2015      & 0.3765324\\\\\n",
       "\t 2016      & 0.3994801\\\\\n",
       "\t 2017      & 0.5761905\\\\\n",
       "\t 2018      & 0.4994893\\\\\n",
       "\\end{tabular}\n"
      ],
      "text/markdown": [
       "\n",
       "year | cumulative_votes | \n",
       "|---|---|---|---|---|---|---|---|---|\n",
       "| 2010      | 0.6205357 | \n",
       "| 2011      | 0.7772021 | \n",
       "| 2012      | 0.5099819 | \n",
       "| 2013      | 0.5058651 | \n",
       "| 2014      | 0.5064516 | \n",
       "| 2015      | 0.3765324 | \n",
       "| 2016      | 0.3994801 | \n",
       "| 2017      | 0.5761905 | \n",
       "| 2018      | 0.4994893 | \n",
       "\n",
       "\n"
      ],
      "text/plain": [
       "  year cumulative_votes\n",
       "1 2010 0.6205357       \n",
       "2 2011 0.7772021       \n",
       "3 2012 0.5099819       \n",
       "4 2013 0.5058651       \n",
       "5 2014 0.5064516       \n",
       "6 2015 0.3765324       \n",
       "7 2016 0.3994801       \n",
       "8 2017 0.5761905       \n",
       "9 2018 0.4994893       "
      ]
     },
     "metadata": {},
     "output_type": "display_data"
    }
   ],
   "source": [
    "top10.share <- df %>% filter(rank_seq == 10) %>% select(year, cumulative_votes)\n",
    "top10.share"
   ]
  },
  {
   "cell_type": "code",
   "execution_count": 33,
   "metadata": {},
   "outputs": [
    {
     "name": "stdout",
     "output_type": "stream",
     "text": [
      "[1] \"The top 10 talks got 62 percent of the votes in 2010, and 50 percent of the votes in 2018.\"\n"
     ]
    }
   ],
   "source": [
    "print(paste(\"The top 10 talks got\", round(top10.share[top10.share$year == 2010, ]$cumulative_votes * 100), \"percent of the votes in 2010, and\",\n",
    "            round(top10.share[top10.share$year == 2018, ]$cumulative_votes * 100), \"percent of the votes in 2018.\"))"
   ]
  },
  {
   "cell_type": "code",
   "execution_count": 34,
   "metadata": {},
   "outputs": [
    {
     "data": {},
     "metadata": {},
     "output_type": "display_data"
    },
    {
     "data": {
      "image/png": "[encoded data removed]",
      "text/plain": [
       "plot without title"
      ]
     },
     "metadata": {},
     "output_type": "display_data"
    }
   ],
   "source": [
    "options(repr.plot.width = 8, repr.plot.height = 6)\n",
    "\n",
    "ggplot(df, aes(x = rank_seq, y = share * 100, fill = factor(top10_new))) + \n",
    "  geom_bar(stat = 'identity') + facet_wrap(~year) + \n",
    "  scale_fill_manual(values = c('#5d5d5d', '#002fa7')) + labs(x = 'Talk rank', y = '') + # movie Ravenclaw colors\n",
    "  theme_minimal() + \n",
    "  scale_y_continuous(breaks = seq(0, 15, 5), \n",
    "                     labels = c('0', '5', '10', '15%'), limits = c(0, 15)) +\n",
    "  theme(panel.spacing.x=unit(1, \"lines\"), panel.spacing.y=unit(1, \"lines\"), strip.text.x = element_text(colour = \"black\", face = \"bold\", size = 12), \n",
    "        legend.position = 'none', axis.text = element_text(size = 10), panel.grid.minor = element_blank(),\n",
    "        panel.grid.major = element_line(colour=\"grey\",size = rel(0.15))) + geom_hline(colour = \"gray78\", \n",
    "                                                                                      yintercept = 0) +\n",
    "  labs(x = '\\nTalk Rank', y = 'Votes')\n",
    "\n",
    "ggsave('distribution.png', width = 8, height = 6)"
   ]
  },
  {
   "cell_type": "markdown",
   "metadata": {},
   "source": [
    "## \" ... (in the unlikely event that each talk received an equal number of votes in 2018, we’d expect the top 10 to get 29 percent of the votes).\""
   ]
  },
  {
   "cell_type": "code",
   "execution_count": 35,
   "metadata": {},
   "outputs": [
    {
     "name": "stdout",
     "output_type": "stream",
     "text": [
      "[1] \"If every talk got an equal number of votes in 2018, we'd expect the top 10 to get 29 percent of the votes in 2018.\"\n"
     ]
    }
   ],
   "source": [
    "print(paste(\"If every talk got an equal number of votes in 2018, we'd expect the top 10 to get\", \n",
    "            round((10/length(df[df$year == 2018,]$title)) * 100), \"percent of the votes in 2018.\"))"
   ]
  }
 ],
 "metadata": {
  "kernelspec": {
   "display_name": "R",
   "language": "R",
   "name": "ir"
  },
  "language_info": {
   "codemirror_mode": "r",
   "file_extension": ".r",
   "mimetype": "text/x-r-source",
   "name": "R",
   "pygments_lexer": "r",
   "version": "3.4.3"
  }
 },
 "nbformat": 4,
 "nbformat_minor": 2
}
